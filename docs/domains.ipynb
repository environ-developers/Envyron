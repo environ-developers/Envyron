{
 "cells": [
  {
   "attachments": {},
   "cell_type": "markdown",
   "metadata": {},
   "source": [
    "# Examples and Features of Envyron Domains"
   ]
  },
  {
   "cell_type": "code",
   "execution_count": null,
   "metadata": {},
   "outputs": [],
   "source": [
    "import numpy as np\n",
    "import matplotlib.pyplot as plt"
   ]
  },
  {
   "attachments": {},
   "cell_type": "markdown",
   "metadata": {},
   "source": [
    "## Cell and EnvironGrid"
   ]
  },
  {
   "cell_type": "code",
   "execution_count": null,
   "metadata": {},
   "outputs": [],
   "source": [
    "from envyron.domains.cell import EnvironGrid"
   ]
  },
  {
   "attachments": {},
   "cell_type": "markdown",
   "metadata": {},
   "source": [
    "### Minimal Cell \n",
    "We start by creating a minimal unitary cell with a 2x2x2 grid. "
   ]
  },
  {
   "cell_type": "code",
   "execution_count": null,
   "metadata": {},
   "outputs": [],
   "source": [
    "at = np.eye(3)\n",
    "nr = np.array([2, 2, 2])\n",
    "minimal_cell = EnvironGrid(at, nr)"
   ]
  },
  {
   "attachments": {},
   "cell_type": "markdown",
   "metadata": {},
   "source": [
    "The `EnvironGrid` object is a child of the `DirectGrid` class of DFTpy. `DirectGrid` ojbects have a core component `.cell` that is an instance of an ASE (Atomic Simulation Environment) `Cell` object."
   ]
  },
  {
   "cell_type": "code",
   "execution_count": null,
   "metadata": {},
   "outputs": [],
   "source": [
    "print(type(minimal_cell.cell))\n",
    "print(minimal_cell.cell)"
   ]
  },
  {
   "attachments": {},
   "cell_type": "markdown",
   "metadata": {},
   "source": [
    "We can access the cell matrix by using the `Cell.real` attribute."
   ]
  },
  {
   "cell_type": "code",
   "execution_count": null,
   "metadata": {},
   "outputs": [],
   "source": [
    "minimal_cell.cell.real"
   ]
  },
  {
   "attachments": {},
   "cell_type": "markdown",
   "metadata": {},
   "source": [
    "However, the `DirectGrid` object also has a `DirectGrid.lattice` attribute that seems to serve the same purpose, with one less layer:"
   ]
  },
  {
   "cell_type": "code",
   "execution_count": null,
   "metadata": {},
   "outputs": [],
   "source": [
    "minimal_cell.lattice"
   ]
  },
  {
   "attachments": {},
   "cell_type": "markdown",
   "metadata": {},
   "source": [
    "On top of the features of the `Cell` object, the `DirectGrid` has all the necessary information on gridpoints, e.g. their position `DirectGrid.r`"
   ]
  },
  {
   "cell_type": "code",
   "execution_count": null,
   "metadata": {},
   "outputs": [],
   "source": [
    "print(type(minimal_cell.r),minimal_cell.r.shape)\n",
    "print(minimal_cell.r.reshape(3,2*2*2).T) # reshaping into a 3 * N format helps to visualize"
   ]
  },
  {
   "attachments": {},
   "cell_type": "markdown",
   "metadata": {},
   "source": [
    "Individual points can be accessed by specifying their index along the three axes:"
   ]
  },
  {
   "cell_type": "code",
   "execution_count": null,
   "metadata": {},
   "outputs": [],
   "source": [
    "minimal_cell.r[:,0,0,0]"
   ]
  },
  {
   "cell_type": "code",
   "execution_count": null,
   "metadata": {},
   "outputs": [],
   "source": [
    "minimal_cell.r[:,0,0,1]"
   ]
  },
  {
   "attachments": {},
   "cell_type": "markdown",
   "metadata": {},
   "source": [
    "Their distance from the origin is accessible through `DirectGrid.rr`"
   ]
  },
  {
   "cell_type": "code",
   "execution_count": null,
   "metadata": {},
   "outputs": [],
   "source": [
    "minimal_cell.rr.reshape(2*2*2)"
   ]
  },
  {
   "attachments": {},
   "cell_type": "markdown",
   "metadata": {},
   "source": [
    "The main additional feature of `EnvironGrid` vs. `DirectGrid` is the ability to compute distances of gridpoints with respect to points/lines/planes using the minimum image convetion. In order to do so, the algorithm follows the strategy of pw.x in the Quantum Espresso package, which relies on cell corners"
   ]
  },
  {
   "cell_type": "code",
   "execution_count": null,
   "metadata": {},
   "outputs": [],
   "source": [
    "minimal_cell.corners"
   ]
  },
  {
   "attachments": {},
   "cell_type": "markdown",
   "metadata": {},
   "source": [
    "Here we can visualize the minimal cell in the xy-plane (dashed blue lines) with its gridpoints (red dots), some of their periodic images (faded red dots), and the cell corners (blue arrows)."
   ]
  },
  {
   "cell_type": "code",
   "execution_count": null,
   "metadata": {},
   "outputs": [],
   "source": [
    "grid = minimal_cell\n",
    "#\n",
    "def plot_boundaries_xy(grid):\n",
    "    # cell boundaries\n",
    "    v0 = np.zeros(2)\n",
    "    v1 = grid.cell.real[0,:2]\n",
    "    v2 = grid.cell.real[1,:2]\n",
    "    v3 = grid.cell.real[0,:2] + grid.cell.real[1,:2]\n",
    "    plt.plot([v0[0],v1[0]],[v0[1],v1[1]],':',color='tab:blue')\n",
    "    plt.plot([v0[0],v2[0]],[v0[1],v2[1]],':',color='tab:blue')\n",
    "    plt.plot([v1[0],v3[0]],[v1[1],v3[1]],':',color='tab:blue')\n",
    "    plt.plot([v2[0],v3[0]],[v2[1],v3[1]],':',color='tab:blue')\n",
    "\n",
    "def plot_gridpoints_xy(grid):\n",
    "    # gridpoints and their periodic images\n",
    "    v0 = np.zeros(2)\n",
    "    v1 = grid.cell.real[0,:2]\n",
    "    v2 = grid.cell.real[1,:2]\n",
    "    v3 = grid.cell.real[0,:2] + grid.cell.real[1,:2]\n",
    "    plt.scatter(grid.r[0,:,:,0],grid.r[1,:,:,0],color='tab:red')\n",
    "    # some periodic images of the gripoints\n",
    "    plt.scatter(grid.r[0,:,:,0]+v1[0],grid.r[1,:,:,0]+v1[1],color='tab:red',alpha=0.2)\n",
    "    plt.scatter(grid.r[0,:,:,0]+v2[0],grid.r[1,:,:,0]+v2[1],color='tab:red',alpha=0.2)\n",
    "    plt.scatter(grid.r[0,:,:,0]+v3[0],grid.r[1,:,:,0]+v3[1],color='tab:red',alpha=0.2)\n",
    "    plt.scatter(grid.r[0,:,:,0]-v1[0],grid.r[1,:,:,0]-v1[1],color='tab:red',alpha=0.2)\n",
    "    plt.scatter(grid.r[0,:,:,0]-v2[0],grid.r[1,:,:,0]-v2[1],color='tab:red',alpha=0.2)\n",
    "    plt.scatter(grid.r[0,:,:,0]-v3[0],grid.r[1,:,:,0]-v3[1],color='tab:red',alpha=0.2)\n",
    "    plt.scatter(grid.r[0,:,:,0]+v2[0]-v1[0],grid.r[1,:,:,0]+v2[1]-v1[1],color='tab:red',alpha=0.2)\n",
    "    plt.scatter(grid.r[0,:,:,0]+v1[0]-v2[0],grid.r[1,:,:,0]+v1[1]-v2[1],color='tab:red',alpha=0.2)\n",
    "\n",
    "def plot_corners_xy(grid,scale):\n",
    "    # corners\n",
    "    corners_origin = np.array([[0.,0.],[0.,0.],[0.,0.]])\n",
    "    plt.quiver(corners_origin[:,0],corners_origin[:,1],grid.corners[grid.corners[:,2]==0][1:,0],grid.corners[grid.corners[:,2]==0][1:,1],color='tab:orange',scale=scale)\n",
    "\n",
    "def plot_origin_xy(grid,origin):\n",
    "    # origin and its periodic images\n",
    "    v0 = np.zeros(2)\n",
    "    v1 = grid.cell.real[0,:2]\n",
    "    v2 = grid.cell.real[1,:2]\n",
    "    v3 = grid.cell.real[0,:2] + grid.cell.real[1,:2]\n",
    "    plt.scatter(origin[0],origin[1],color='tab:blue')\n",
    "    plt.scatter(origin[0]+v1[0],origin[1]+v1[1],color='tab:blue',alpha=0.2)\n",
    "    plt.scatter(origin[0]+v2[0],origin[1]+v2[1],color='tab:blue',alpha=0.2)\n",
    "    plt.scatter(origin[0]+v3[0],origin[1]+v3[1],color='tab:blue',alpha=0.2)\n",
    "    plt.scatter(origin[0]-v1[0],origin[1]-v1[1],color='tab:blue',alpha=0.2)\n",
    "    plt.scatter(origin[0]-v2[0],origin[1]-v2[1],color='tab:blue',alpha=0.2)\n",
    "    plt.scatter(origin[0]-v3[0],origin[1]-v3[1],color='tab:blue',alpha=0.2)\n",
    "    plt.scatter(origin[0]+v2[0]-v1[0],origin[1]+v2[1]-v1[1],color='tab:blue',alpha=0.2)\n",
    "    plt.scatter(origin[0]+v1[0]-v2[0],origin[1]+v1[1]-v2[1],color='tab:blue',alpha=0.2)\n",
    "\n",
    "\n",
    "def plot_minimal_cell_xy(grid,origin=np.zeros(3),plot_corners=False):\n",
    "    fig, ax = plt.subplots()\n",
    "    ax.set_aspect('equal', 'box')\n",
    "    ax.set_xlim(-1.1,1.6)\n",
    "    ax.set_ylim(-1.1,1.6)\n",
    "    #\n",
    "    plot_boundaries_xy(grid)\n",
    "    #\n",
    "    plot_gridpoints_xy(grid)\n",
    "    # corners\n",
    "    if plot_corners : plot_corners_xy(grid,2.7)\n",
    "    # random point\n",
    "    if origin.any() : plot_origin_xy(grid,origin)\n",
    "\n",
    "plot_minimal_cell_xy(grid,plot_corners=True)\n",
    "plt.show()\n"
   ]
  },
  {
   "attachments": {},
   "cell_type": "markdown",
   "metadata": {},
   "source": [
    "#### Distance from a Point and Minimum Image Convention"
   ]
  },
  {
   "attachments": {},
   "cell_type": "markdown",
   "metadata": {},
   "source": [
    "Let us consider a random origin in space and compute the distance of each grid point from such an origin. "
   ]
  },
  {
   "cell_type": "code",
   "execution_count": null,
   "metadata": {},
   "outputs": [],
   "source": [
    "origin = np.array([0.9, 0.2, 0.0])"
   ]
  },
  {
   "cell_type": "code",
   "execution_count": null,
   "metadata": {},
   "outputs": [],
   "source": [
    "r = grid.r - origin[:, np.newaxis, np.newaxis, np.newaxis]\n",
    "print(r.reshape(3,8).T)"
   ]
  },
  {
   "cell_type": "code",
   "execution_count": null,
   "metadata": {},
   "outputs": [],
   "source": [
    "plot_minimal_cell_xy(grid,origin)\n",
    "#\n",
    "origin_xy = grid.r[:,:,:,0].reshape(3,4).T[:,:2]\n",
    "r0_xy = -r[:,:,:,0].reshape(3,4).T[:,:2]\n",
    "plt.quiver(origin_xy[:,0],origin_xy[:,1], r0_xy[:,0], r0_xy[:,1], color='tab:green', scale=2.8)\n",
    "plt.show()"
   ]
  },
  {
   "cell_type": "code",
   "execution_count": null,
   "metadata": {},
   "outputs": [],
   "source": [
    "reciprocal_lattice = grid.get_reciprocal().lattice / 2 / np.pi\n",
    "print(reciprocal_lattice)"
   ]
  },
  {
   "attachments": {},
   "cell_type": "markdown",
   "metadata": {},
   "source": [
    "The `np.floor()` integer division will return the vectors to a close image, but staying on the positive side. When visualizing these distance vectors with respect to the individual gridpoints (changing their signs), all the vectors will tend to point towards the bottom right corner. We overshoot at this step to correct later by adding cell vectors (dubbed corners) in the three directions and identifying the point with minimum distance."
   ]
  },
  {
   "cell_type": "code",
   "execution_count": null,
   "metadata": {},
   "outputs": [],
   "source": [
    "s = np.einsum('lijk,ml->mijk', r, reciprocal_lattice)\n",
    "s -= np.floor(s)\n",
    "r = np.einsum('lm,lijk->mijk', grid.lattice, s)"
   ]
  },
  {
   "cell_type": "code",
   "execution_count": null,
   "metadata": {},
   "outputs": [],
   "source": [
    "plot_minimal_cell_xy(grid,origin,plot_corners=True)\n",
    "#\n",
    "origin_xy = grid.r[:,:,:,0].reshape(3,4).T[:,:2]\n",
    "r_xy = -r[:,:,:,0].reshape(3,4).T[:,:2]\n",
    "plt.quiver(origin_xy[:,0],origin_xy[:,1], r_xy[:,0], r_xy[:,1], color='tab:green', scale=2.8)\n",
    "plt.quiver(origin_xy[:,0],origin_xy[:,1], r0_xy[:,0], r0_xy[:,1], color='tab:green', scale=2.8, alpha=0.3)\n",
    "plt.show()"
   ]
  },
  {
   "attachments": {},
   "cell_type": "markdown",
   "metadata": {},
   "source": [
    "We iterate over the possible negative images (by adding the corresponding corner vector) to make sure we pick the closest to the gridpoint"
   ]
  },
  {
   "cell_type": "code",
   "execution_count": null,
   "metadata": {},
   "outputs": [],
   "source": [
    "rmin = r\n",
    "r2min = np.einsum('i...,i...', r, r)\n",
    "t = r\n",
    "for corner in grid.corners[1:]: \n",
    "    r = t + corner[:,np.newaxis,np.newaxis,np.newaxis]\n",
    "    r2 = np.einsum('i...,i...', r, r)\n",
    "    mask = r2 < r2min\n",
    "    rmin = np.where(mask[np.newaxis, :, :, :], r, rmin)\n",
    "    r2min = np.where(mask, r2, r2min)\n"
   ]
  },
  {
   "cell_type": "code",
   "execution_count": null,
   "metadata": {},
   "outputs": [],
   "source": [
    "plot_minimal_cell_xy(grid,origin)\n",
    "#\n",
    "origin_xy = grid.r[:,:,:,0].reshape(3,4).T[:,:2]\n",
    "r_xy = -rmin[:,:,:,0].reshape(3,4).T[:,:2]\n",
    "plt.quiver(origin_xy[:,0],origin_xy[:,1], r_xy[:,0], r_xy[:,1], color='tab:green', scale=2.8)\n",
    "plt.quiver(origin_xy[:,0],origin_xy[:,1], r0_xy[:,0], r0_xy[:,1], color='tab:green', scale=2.8, alpha=0.3)\n",
    "plt.show()"
   ]
  },
  {
   "attachments": {},
   "cell_type": "markdown",
   "metadata": {},
   "source": [
    "Note that using the `np.rint()` rounding integer division would provide a quicker approach that would overcome the need for the corners loop. As shown in the following the results are indeed identical to the algorithm that relies on the corners. This approach is used very often in classical Molecular Dynamics, which usually involves orthorombic cells. However, this approach may fail for non-orthorombic cells, which are more common in condensed matter simulations (see later for the hexagonal cell)."
   ]
  },
  {
   "cell_type": "code",
   "execution_count": null,
   "metadata": {},
   "outputs": [],
   "source": [
    "r = grid.r - origin[:, np.newaxis, np.newaxis, np.newaxis]\n",
    "s = np.einsum('lijk,ml->mijk', r, reciprocal_lattice)\n",
    "s -= np.rint(s)\n",
    "r = np.einsum('lm,lijk->mijk', grid.lattice, s)\n",
    "#\n",
    "plot_minimal_cell_xy(grid,origin)\n",
    "#\n",
    "origin_xy = grid.r[:,:,:,0].reshape(3,4).T[:,:2]\n",
    "r_xy = -r[:,:,:,0].reshape(3,4).T[:,:2]\n",
    "plt.quiver(origin_xy[:,0],origin_xy[:,1], r_xy[:,0], r_xy[:,1], color='tab:green', scale=2.8)\n",
    "plt.show()"
   ]
  },
  {
   "attachments": {},
   "cell_type": "markdown",
   "metadata": {},
   "source": [
    "#### Distances in Lower Dimensions"
   ]
  },
  {
   "attachments": {},
   "cell_type": "markdown",
   "metadata": {},
   "source": [
    "##### Distance from a Line"
   ]
  },
  {
   "attachments": {},
   "cell_type": "markdown",
   "metadata": {},
   "source": [
    "The task is to compute the distance of every gridpoint from a line (`dim=1`) passing through a given point (`origin`) and oriented along one of the cell axes (`axis`). NOTE: simplified implementations zero out the component of the distance vectors corresponding to the index of the axis (e.g., zero out the y-component of the vector if axis=1). However, this does not preserve lattice symmetry for non-orthorombic cells. The correct implementation projects the distance vector onto the direction of the axis and removes this from the distance vector. "
   ]
  },
  {
   "cell_type": "code",
   "execution_count": null,
   "metadata": {},
   "outputs": [],
   "source": [
    "dim = 1 # line passing throught the origin\n",
    "axis = 1 # oriented along the i-th axis, i = 0, 1, 2\n",
    "origin = np.array([0.9, 0.2, 0.0])"
   ]
  },
  {
   "cell_type": "code",
   "execution_count": null,
   "metadata": {},
   "outputs": [],
   "source": [
    "r = grid.r - origin[:, np.newaxis, np.newaxis, np.newaxis]\n",
    "s = np.einsum('lijk,ml->mijk', r, reciprocal_lattice)\n",
    "s -= np.floor(s)\n",
    "r = np.einsum('lm,lijk->mijk', grid.lattice, s)\n",
    "\n",
    "# determines the direction of the line\n",
    "n = grid.cell[axis,:]\n",
    "# removes the component directed along n\n",
    "r = r - np.einsum('jkl,i->ijkl',np.einsum('ijkl,i->jkl',r,n),n)\n",
    "\n",
    "# pre-corner-check results\n",
    "rmin = r\n",
    "r2min = np.einsum('i...,i...', r, r)\n",
    "\n",
    "# check against corner shifts\n",
    "t = r\n",
    "for corner in grid.corners[1:]:\n",
    "    r = t + corner[:,np.newaxis,np.newaxis,np.newaxis]\n",
    "    r = r - np.einsum('jkl,i->ijkl',np.einsum('ijkl,i->jkl',r,n),n)\n",
    "    r2 = np.einsum('i...,i...', r, r)\n",
    "    mask = r2 < r2min\n",
    "    rmin = np.where(mask[np.newaxis, :, :, :], r, rmin)\n",
    "    r2min = np.where(mask, r2, r2min)"
   ]
  },
  {
   "cell_type": "code",
   "execution_count": null,
   "metadata": {},
   "outputs": [],
   "source": [
    "plot_minimal_cell_xy(grid,origin)\n",
    "#\n",
    "origin_xy = grid.r[:,:,:,0].reshape(3,4).T[:,:2]\n",
    "r_xy = -rmin[:,:,:,0].reshape(3,4).T[:,:2]\n",
    "plt.quiver(origin_xy[:,0],origin_xy[:,1], r_xy[:,0], r_xy[:,1], color='tab:green', scale=2.8)\n",
    "plt.axvline(x=origin[0], color='tab:blue', linestyle=(0, (5,1)))\n",
    "plt.axvline(x=origin[0]-1., color='tab:blue', linestyle=(0, (5,1)),alpha=0.3)\n",
    "plt.show()"
   ]
  },
  {
   "attachments": {},
   "cell_type": "markdown",
   "metadata": {},
   "source": [
    "##### Distance from a Plane"
   ]
  },
  {
   "attachments": {},
   "cell_type": "markdown",
   "metadata": {},
   "source": [
    "The task is to compute the distance of every gridpoint from a plane (`dim=2`) passing through a given point (`origin`) and oriented perpendicular to one of the cell axes (`axis`). NOTE: simplified implementations zero out the components of the distance vectors corresponding to the index of the two axes different from the specified axis (e.g., zero out the xz-components of the vector if axis=1). However, this does not preserve lattice symmetry for non-orthorombic cells. The correct implementation projects the distance vector onto the direction of the axis and only keeps this component. "
   ]
  },
  {
   "cell_type": "code",
   "execution_count": null,
   "metadata": {},
   "outputs": [],
   "source": [
    "dim = 2 # line passing throught the origin\n",
    "axis = 1 # oriented perpendicular to the i-th axis, i = 0, 1, 2\n",
    "origin = np.array([0.9, 0.2, 0.0])"
   ]
  },
  {
   "cell_type": "code",
   "execution_count": null,
   "metadata": {},
   "outputs": [],
   "source": [
    "r = grid.r - origin[:, np.newaxis, np.newaxis, np.newaxis]\n",
    "s = np.einsum('lijk,ml->mijk', r, reciprocal_lattice)\n",
    "s -= np.floor(s)\n",
    "r = np.einsum('lm,lijk->mijk', grid.lattice, s)\n",
    "\n",
    "# determine the two directions of the plane\n",
    "n1, n2 = grid.cell[np.arange(3)!=axis,:]\n",
    "# take the cross product to get the perpendicular direction\n",
    "n = np.cross(n2,n1)\n",
    "# only keep the component directed along n\n",
    "r = np.einsum('jkl,i->ijkl',np.einsum('ijkl,i->jkl',r,n),n)\n",
    "\n",
    "# pre-corner-check results\n",
    "rmin = r\n",
    "r2min = np.einsum('i...,i...', r, r)\n",
    "\n",
    "# check against corner shifts\n",
    "t = r\n",
    "for corner in grid.corners[1:]:\n",
    "    r = t + corner[:,np.newaxis,np.newaxis,np.newaxis]\n",
    "    r = np.einsum('jkl,i->ijkl',np.einsum('ijkl,i->jkl',r,n),n)\n",
    "    r2 = np.einsum('i...,i...', r, r)\n",
    "    mask = r2 < r2min\n",
    "    rmin = np.where(mask[np.newaxis, :, :, :], r, rmin)\n",
    "    r2min = np.where(mask, r2, r2min)"
   ]
  },
  {
   "cell_type": "code",
   "execution_count": null,
   "metadata": {},
   "outputs": [],
   "source": [
    "plot_minimal_cell_xy(grid,origin)\n",
    "#\n",
    "origin_xy = grid.r[:,:,:,0].reshape(3,4).T[:,:2]\n",
    "r_xy = -rmin[:,:,:,0].reshape(3,4).T[:,:2]\n",
    "plt.quiver(origin_xy[:,0],origin_xy[:,1], r_xy[:,0], r_xy[:,1], color='tab:green', scale=2.8)\n",
    "plt.axhline(y=origin[1], color='tab:blue', linestyle='-')\n",
    "plt.show()"
   ]
  },
  {
   "attachments": {},
   "cell_type": "markdown",
   "metadata": {},
   "source": [
    "#### Distances and Translational Symmetry"
   ]
  },
  {
   "attachments": {},
   "cell_type": "markdown",
   "metadata": {},
   "source": [
    "It is important that the computed distances do not depend on arbitrary translations of the origin by a lattice vector. The use of scaled coordinates and `np.floor()` is to ensure that the image closest to the gridpoints is selected. We can add an arbitrary shift by a lattice vectore to our point"
   ]
  },
  {
   "cell_type": "code",
   "execution_count": null,
   "metadata": {},
   "outputs": [],
   "source": [
    "shift = [1, -1, 0] # shift the point by a lattice vector\n",
    "origin_shifted = origin + np.dot(grid.cell.T,np.array(shift))\n",
    "print(origin_shifted)"
   ]
  },
  {
   "attachments": {},
   "cell_type": "markdown",
   "metadata": {},
   "source": [
    "and the results are not affected"
   ]
  },
  {
   "cell_type": "code",
   "execution_count": null,
   "metadata": {},
   "outputs": [],
   "source": [
    "plot_minimal_cell_xy(grid,origin_shifted)\n",
    "plt.xlim(-1.1,2.1)\n",
    "#\n",
    "rmin, r2min = grid.get_min_distance(origin_shifted)\n",
    "origin_xy = grid.r[:,:,:,0].reshape(3,4).T[:,:2]\n",
    "r_xy = -rmin[:,:,:,0].reshape(3,4).T[:,:2]\n",
    "plt.quiver(origin_xy[:,0],origin_xy[:,1], r_xy[:,0], r_xy[:,1], color='tab:green', scale=3.2)\n",
    "plt.show()"
   ]
  },
  {
   "cell_type": "code",
   "execution_count": null,
   "metadata": {},
   "outputs": [],
   "source": [
    "plot_minimal_cell_xy(grid,origin_shifted)\n",
    "plt.xlim(-1.1,2.1)\n",
    "#\n",
    "rmin, r2min = grid.get_min_distance(origin_shifted,dim=1,axis=0)\n",
    "origin_xy = grid.r[:,:,:,0].reshape(3,4).T[:,:2]\n",
    "r_xy = -rmin[:,:,:,0].reshape(3,4).T[:,:2]\n",
    "plt.quiver(origin_xy[:,0],origin_xy[:,1], r_xy[:,0], r_xy[:,1], color='tab:green', scale=3.2)\n",
    "plt.axhline(y=origin[1], color='tab:blue', linestyle='-', alpha=0.3)\n",
    "plt.axhline(y=origin_shifted[1], color='tab:blue', linestyle='-')\n",
    "plt.show()"
   ]
  },
  {
   "attachments": {},
   "cell_type": "markdown",
   "metadata": {},
   "source": [
    "### Hexagonal Cell"
   ]
  },
  {
   "attachments": {},
   "cell_type": "markdown",
   "metadata": {},
   "source": [
    "Many issues with cell operations are intrinsically easier with orthorombic cells. Indexes, getting reciprocal cells, etc. are all operations that are easy to perform with a diagonal cell matrix. A simple example of a cell with a non-diagonal matrix is the hexagonal cell. In an hexagonal lattice, the xy-plane has hexagonal symmetry, with the in-plane cell axes of equal length and at a 60-degree angle, while the z-axis is perpendicular to the xy-plane and can have an arbitrary length. As a simpler case, we can consider an hexagonal lattice of side 1 and with vertical side of 1: "
   ]
  },
  {
   "cell_type": "code",
   "execution_count": null,
   "metadata": {},
   "outputs": [],
   "source": [
    "at = np.eye(3) * 1\n",
    "at[1, 0] = 0.5\n",
    "at[1, 1] *= np.sqrt(3) * 0.5\n",
    "nr = np.array([2, 2, 2])\n",
    "hexagonal_cell = EnvironGrid(at, nr, label='system')"
   ]
  },
  {
   "attachments": {},
   "cell_type": "markdown",
   "metadata": {},
   "source": [
    "The cell matrix is reported below and it allows to understand how rows and columns relate to axes vectors"
   ]
  },
  {
   "cell_type": "code",
   "execution_count": null,
   "metadata": {},
   "outputs": [],
   "source": [
    "print(hexagonal_cell.lattice)"
   ]
  },
  {
   "cell_type": "code",
   "execution_count": null,
   "metadata": {},
   "outputs": [],
   "source": [
    "print(\"The first axis vector is {}\".format(hexagonal_cell.lattice[0,:]))\n",
    "print(\"The second axis vector is {}\".format(hexagonal_cell.lattice[1,:]))\n",
    "print(\"The third axis vector is {}\".format(hexagonal_cell.lattice[2,:]))"
   ]
  },
  {
   "attachments": {},
   "cell_type": "markdown",
   "metadata": {},
   "source": [
    "We can visualize the in-plane lattice for z=0 "
   ]
  },
  {
   "cell_type": "code",
   "execution_count": null,
   "metadata": {},
   "outputs": [],
   "source": [
    "grid = hexagonal_cell\n",
    "#\n",
    "def plot_hexagonal_cell_xy(grid,origin=np.zeros(3),plot_corners=False):\n",
    "    fig, ax = plt.subplots()\n",
    "    ax.set_aspect('equal', 'box')\n",
    "    ax.set_xlim(-1.7,2.6)\n",
    "    ax.set_ylim(-1.1,1.6)\n",
    "    plot_boundaries_xy(grid)\n",
    "    #\n",
    "    plot_boundaries_xy(grid)\n",
    "    #\n",
    "    plot_gridpoints_xy(grid)\n",
    "    # corners\n",
    "    if plot_corners : plot_corners_xy(grid,4.3)\n",
    "    # random point\n",
    "    if origin.any() : plot_origin_xy(grid,origin)\n",
    "    # gridpoints\n",
    "    ax.scatter(grid.r[0,:,:,0],grid.r[1,:,:,0],color='tab:red')\n",
    "\n",
    "plot_hexagonal_cell_xy(grid,plot_corners=True)\n",
    "plt.show()"
   ]
  },
  {
   "attachments": {},
   "cell_type": "markdown",
   "metadata": {},
   "source": [
    "#### Distance from a Point and Minimum Image Convention"
   ]
  },
  {
   "attachments": {},
   "cell_type": "markdown",
   "metadata": {},
   "source": [
    "Let us consider a random point in the cell and compute the distance of each gridpoint from this origin."
   ]
  },
  {
   "cell_type": "code",
   "execution_count": null,
   "metadata": {},
   "outputs": [],
   "source": [
    "origin = np.array([1.1,0.1,0.])"
   ]
  },
  {
   "attachments": {},
   "cell_type": "markdown",
   "metadata": {},
   "source": [
    "If we followed the most straightforward algorithm that goes through scaled coordinates and the nearest integer rounding (`Numpy.rint()`), we can see that one of the distances is not correct. "
   ]
  },
  {
   "cell_type": "code",
   "execution_count": null,
   "metadata": {},
   "outputs": [],
   "source": [
    "r = grid.r - origin[:, np.newaxis, np.newaxis, np.newaxis]\n",
    "reciprocal_lattice = grid.get_reciprocal().lattice / 2 / np.pi\n",
    "s = np.einsum('lijk,ml->mijk', r, reciprocal_lattice)\n",
    "s -= np.rint(s)\n",
    "r = np.einsum('lm,lijk->mijk', grid.lattice, s)\n",
    "#\n",
    "plot_hexagonal_cell_xy(grid,origin)\n",
    "#\n",
    "origin_xy = grid.r[:,:,:,0].reshape(3,4).T[:,:2]\n",
    "r_xy = -r[:,:,:,0].reshape(3,4).T[:,:2]\n",
    "plt.quiver(origin_xy[:,0],origin_xy[:,1], r_xy[:,0], r_xy[:,1], color='tab:green', scale=4.5)\n",
    "plt.show()"
   ]
  },
  {
   "attachments": {},
   "cell_type": "markdown",
   "metadata": {},
   "source": [
    "With the proper algorithm (in this case the one relying on integer flooring `Numpy.floor()` and a loop over corners) we can see that the central gridpoint is closer to the actual origin than to its periodic image inside the cell."
   ]
  },
  {
   "cell_type": "code",
   "execution_count": null,
   "metadata": {},
   "outputs": [],
   "source": [
    "dr,dr2 = grid.get_min_distance(origin)\n",
    "#\n",
    "plot_hexagonal_cell_xy(grid,origin)\n",
    "#\n",
    "origin_xy = grid.r[:,:,:,0].reshape(3,4).T[:,:2]\n",
    "r_xy = -dr[:,:,:,0].reshape(3,4).T[:,:2]\n",
    "plt.quiver(origin_xy[:,0],origin_xy[:,1], r_xy[:,0], r_xy[:,1], color='tab:green', scale=4.5)\n",
    "plt.show()"
   ]
  },
  {
   "attachments": {},
   "cell_type": "markdown",
   "metadata": {},
   "source": [
    "This works also for distances with respect to a line..."
   ]
  },
  {
   "cell_type": "code",
   "execution_count": null,
   "metadata": {},
   "outputs": [],
   "source": [
    "origin = np.array([0.35,0.2,0.])\n",
    "dr,dr2 = grid.get_min_distance(origin,dim=1,axis=1)\n",
    "#\n",
    "plot_hexagonal_cell_xy(grid,origin)\n",
    "#\n",
    "origin_xy = grid.r[:,:,:,0].reshape(3,4).T[:,:2]\n",
    "r_xy = -dr[:,:,:,0].reshape(3,4).T[:,:2]\n",
    "plt.quiver(origin_xy[:,0],origin_xy[:,1], r_xy[:,0], r_xy[:,1], color='tab:green', scale=4.5)\n",
    "x = np.linspace(-1,2,100)\n",
    "y = origin[1] + (x - origin[0]) * np.sqrt(3)\n",
    "plt.plot(x,y,linestyle=(0, (5,1)))\n",
    "plt.show()"
   ]
  },
  {
   "attachments": {},
   "cell_type": "markdown",
   "metadata": {},
   "source": [
    "or a plane"
   ]
  },
  {
   "cell_type": "code",
   "execution_count": null,
   "metadata": {},
   "outputs": [],
   "source": [
    "origin = np.array([0.35,0.2,0.])\n",
    "dr,dr2 = grid.get_min_distance(origin,dim=2,axis=1)\n",
    "#\n",
    "plot_hexagonal_cell_xy(grid,origin)\n",
    "#\n",
    "origin_xy = grid.r[:,:,:,0].reshape(3,4).T[:,:2]\n",
    "r_xy = -dr[:,:,:,0].reshape(3,4).T[:,:2]\n",
    "plt.quiver(origin_xy[:,0],origin_xy[:,1], r_xy[:,0], r_xy[:,1], color='tab:green', scale=4.5)\n",
    "plt.axhline(y=origin[1], color='tab:blue', linestyle='-')\n",
    "plt.show()"
   ]
  }
 ],
 "metadata": {
  "kernelspec": {
   "display_name": "Python 3",
   "language": "python",
   "name": "python3"
  },
  "language_info": {
   "codemirror_mode": {
    "name": "ipython",
    "version": 3
   },
   "file_extension": ".py",
   "mimetype": "text/x-python",
   "name": "python",
   "nbconvert_exporter": "python",
   "pygments_lexer": "ipython3",
   "version": "3.9.6"
  },
  "orig_nbformat": 4
 },
 "nbformat": 4,
 "nbformat_minor": 2
}
