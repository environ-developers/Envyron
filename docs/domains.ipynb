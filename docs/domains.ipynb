{
 "cells": [
  {
   "attachments": {},
   "cell_type": "markdown",
   "metadata": {},
   "source": [
    "# Examples and Features of Environ Domains"
   ]
  },
  {
   "cell_type": "code",
   "execution_count": null,
   "metadata": {},
   "outputs": [],
   "source": [
    "import numpy as np\n",
    "import matplotlib.pyplot as plt"
   ]
  },
  {
   "attachments": {},
   "cell_type": "markdown",
   "metadata": {},
   "source": [
    "## Cell and EnvironGrid"
   ]
  },
  {
   "cell_type": "code",
   "execution_count": null,
   "metadata": {},
   "outputs": [],
   "source": [
    "from envyron.domains.cell import EnvironGrid"
   ]
  },
  {
   "attachments": {},
   "cell_type": "markdown",
   "metadata": {},
   "source": [
    "### Minimal Cell \n",
    "We start by creating a minimal unitary cell with a 2x2x2 grid. "
   ]
  },
  {
   "cell_type": "code",
   "execution_count": null,
   "metadata": {},
   "outputs": [],
   "source": [
    "at = np.eye(3)\n",
    "nr = np.array([2, 2, 2])\n",
    "minimal_cell = EnvironGrid(at, nr)"
   ]
  },
  {
   "attachments": {},
   "cell_type": "markdown",
   "metadata": {},
   "source": [
    "The `EnvironGrid` object is a child of the `DirectGrid` class of DFTpy. `DirectGrid` ojbects have a core component `.cell` that is an instance of an ASE (Atomic Simulation Environment) `Cell` object."
   ]
  },
  {
   "cell_type": "code",
   "execution_count": null,
   "metadata": {},
   "outputs": [],
   "source": [
    "print(type(minimal_cell.cell))\n",
    "print(minimal_cell.cell)"
   ]
  },
  {
   "cell_type": "code",
   "execution_count": null,
   "metadata": {},
   "outputs": [],
   "source": [
    "minimal_cell.cell.real"
   ]
  },
  {
   "attachments": {},
   "cell_type": "markdown",
   "metadata": {},
   "source": [
    "On top of the features of the `Cell` object, the `DirectGrid` has all the necessary information on gridpoints, e.g. their position `DirectGrid.r`"
   ]
  },
  {
   "cell_type": "code",
   "execution_count": null,
   "metadata": {},
   "outputs": [],
   "source": [
    "print(type(minimal_cell.r),minimal_cell.r.shape)\n",
    "print(minimal_cell.r.reshape(3,2*2*2).T)"
   ]
  },
  {
   "cell_type": "code",
   "execution_count": null,
   "metadata": {},
   "outputs": [],
   "source": [
    "minimal_cell.r[:,0,0,0]"
   ]
  },
  {
   "cell_type": "code",
   "execution_count": null,
   "metadata": {},
   "outputs": [],
   "source": [
    "minimal_cell.r[:,0,0,1]"
   ]
  },
  {
   "attachments": {},
   "cell_type": "markdown",
   "metadata": {},
   "source": [
    "and their distance from the origin `DirectGrid.rr`"
   ]
  },
  {
   "cell_type": "code",
   "execution_count": null,
   "metadata": {},
   "outputs": [],
   "source": [
    "minimal_cell.rr.reshape(2*2*2)"
   ]
  },
  {
   "cell_type": "code",
   "execution_count": null,
   "metadata": {},
   "outputs": [],
   "source": [
    "minimal_cell.corners"
   ]
  },
  {
   "cell_type": "code",
   "execution_count": null,
   "metadata": {},
   "outputs": [],
   "source": [
    "grid = minimal_cell\n",
    "#\n",
    "def plot_minimal_cell_xy(origin=np.zeros(3),plot_corners=False):\n",
    "    fig, ax = plt.subplots()\n",
    "    ax.set_aspect('equal', 'box')\n",
    "    ax.set_xlim(-1.1,1.6)\n",
    "    ax.set_ylim(-1.1,1.6)\n",
    "    # cell boundaries\n",
    "    v0 = np.zeros(2)\n",
    "    v1 = grid.cell.real[0,:2]\n",
    "    v2 = grid.cell.real[1,:2]\n",
    "    v3 = grid.cell.real[0,:2] + grid.cell.real[1,:2]\n",
    "    plt.plot([v0[0],v1[0]],[v0[1],v1[1]],':',color='b')\n",
    "    plt.plot([v0[0],v2[0]],[v0[1],v2[1]],':',color='b')\n",
    "    plt.plot([v1[0],v3[0]],[v1[1],v3[1]],':',color='b')\n",
    "    plt.plot([v2[0],v3[0]],[v2[1],v3[1]],':',color='b')\n",
    "    # gridpoints\n",
    "    ax.scatter(grid.r[0,:,:,0],grid.r[1,:,:,0],color='r')\n",
    "    # some periodic images of the gripoints\n",
    "    ax.scatter(grid.r[0,:,:,0]+v1[0],grid.r[1,:,:,0]+v1[1],color='r',alpha=0.2)\n",
    "    ax.scatter(grid.r[0,:,:,0]+v2[0],grid.r[1,:,:,0]+v2[1],color='r',alpha=0.2)\n",
    "    ax.scatter(grid.r[0,:,:,0]+v3[0],grid.r[1,:,:,0]+v3[1],color='r',alpha=0.2)\n",
    "    ax.scatter(grid.r[0,:,:,0]-v1[0],grid.r[1,:,:,0]-v1[1],color='r',alpha=0.2)\n",
    "    ax.scatter(grid.r[0,:,:,0]-v2[0],grid.r[1,:,:,0]-v2[1],color='r',alpha=0.2)\n",
    "    ax.scatter(grid.r[0,:,:,0]-v3[0],grid.r[1,:,:,0]-v3[1],color='r',alpha=0.2)\n",
    "    ax.scatter(grid.r[0,:,:,0]+v2[0]-v1[0],grid.r[1,:,:,0]+v2[1]-v1[1],color='r',alpha=0.2)\n",
    "    ax.scatter(grid.r[0,:,:,0]+v1[0]-v2[0],grid.r[1,:,:,0]+v1[1]-v2[1],color='r',alpha=0.2)\n",
    "    # corners\n",
    "    if plot_corners : \n",
    "        corners_origin = np.array([[0.,0.],[0.,0.],[0.,0.]])\n",
    "        plt.quiver(corners_origin[:,0],corners_origin[:,1],grid.corners[grid.corners[:,2]==0][1:,0],grid.corners[grid.corners[:,2]==0][1:,1],color='b',scale=3.2)\n",
    "    # random point\n",
    "    if origin.any() :\n",
    "        plt.scatter(origin[0],origin[1])\n",
    "\n",
    "plot_minimal_cell_xy()\n",
    "plt.show()\n"
   ]
  },
  {
   "attachments": {},
   "cell_type": "markdown",
   "metadata": {},
   "source": [
    "#### Distance from a Point and Minimum Image Convention"
   ]
  },
  {
   "attachments": {},
   "cell_type": "markdown",
   "metadata": {},
   "source": [
    "Let us consider a random origin in space and compute the distance of each grid point from such an origin. "
   ]
  },
  {
   "cell_type": "code",
   "execution_count": null,
   "metadata": {},
   "outputs": [],
   "source": [
    "origin = np.array([0.9, 0.2, 0.0])"
   ]
  },
  {
   "cell_type": "code",
   "execution_count": null,
   "metadata": {},
   "outputs": [],
   "source": [
    "r = grid.r - origin[:, np.newaxis, np.newaxis, np.newaxis]\n",
    "print(r.reshape(3,8).T)"
   ]
  },
  {
   "cell_type": "code",
   "execution_count": null,
   "metadata": {},
   "outputs": [],
   "source": [
    "plot_minimal_cell_xy(origin)\n",
    "#\n",
    "origin_xy = grid.r[:,:,:,0].reshape(3,4).T[:,:2]\n",
    "r0_xy = -r[:,:,:,0].reshape(3,4).T[:,:2]\n",
    "plt.quiver(origin_xy[:,0],origin_xy[:,1], r0_xy[:,0], r0_xy[:,1], scale=2.8)\n",
    "plt.show()"
   ]
  },
  {
   "cell_type": "code",
   "execution_count": null,
   "metadata": {},
   "outputs": [],
   "source": [
    "reciprocal_lattice = grid.get_reciprocal().lattice / 2 / np.pi\n",
    "print(reciprocal_lattice)"
   ]
  },
  {
   "attachments": {},
   "cell_type": "markdown",
   "metadata": {},
   "source": [
    "The `np.floor()` integer division will return the vectors to a close image, but staying on the positive side. When visualizing these distance vectors with respect to the individual gridpoints (changing their signs), all the vectors will tend to point towards the bottom right corner. We overshoot at this step to correct later by adding cell vectors (dubbed corners) in the three directions and identifying the point with minimum distance."
   ]
  },
  {
   "cell_type": "code",
   "execution_count": null,
   "metadata": {},
   "outputs": [],
   "source": [
    "s = np.einsum('lijk,ml->mijk', r, reciprocal_lattice)\n",
    "s -= np.floor(s)\n",
    "r = np.einsum('lm,lijk->mijk', grid.lattice, s)"
   ]
  },
  {
   "cell_type": "code",
   "execution_count": null,
   "metadata": {},
   "outputs": [],
   "source": [
    "plot_minimal_cell_xy(origin,plot_corners=True)\n",
    "#\n",
    "origin_xy = grid.r[:,:,:,0].reshape(3,4).T[:,:2]\n",
    "r_xy = -r[:,:,:,0].reshape(3,4).T[:,:2]\n",
    "plt.quiver(origin_xy[:,0],origin_xy[:,1], r_xy[:,0], r_xy[:,1], scale=2.8)\n",
    "plt.quiver(origin_xy[:,0],origin_xy[:,1], r0_xy[:,0], r0_xy[:,1], scale=2.8, alpha=0.3)\n",
    "plt.show()"
   ]
  },
  {
   "attachments": {},
   "cell_type": "markdown",
   "metadata": {},
   "source": [
    "We iterate over the possible negative images (by adding the corresponding corner vector) to make sure we pick the closest to the gridpoint"
   ]
  },
  {
   "cell_type": "code",
   "execution_count": null,
   "metadata": {},
   "outputs": [],
   "source": [
    "rmin = r\n",
    "r2min = np.einsum('i...,i...', r, r)\n",
    "t = r\n",
    "for corner in grid.corners[1:]: \n",
    "    r = t + corner[:,np.newaxis,np.newaxis,np.newaxis]\n",
    "    r2 = np.einsum('i...,i...', r, r)\n",
    "    mask = r2 < r2min\n",
    "    rmin = np.where(mask[np.newaxis, :, :, :], r, rmin)\n",
    "    r2min = np.where(mask, r2, r2min)\n"
   ]
  },
  {
   "cell_type": "code",
   "execution_count": null,
   "metadata": {},
   "outputs": [],
   "source": [
    "plot_minimal_cell_xy(origin)\n",
    "#\n",
    "origin_xy = grid.r[:,:,:,0].reshape(3,4).T[:,:2]\n",
    "r_xy = -rmin[:,:,:,0].reshape(3,4).T[:,:2]\n",
    "plt.quiver(origin_xy[:,0],origin_xy[:,1], r_xy[:,0], r_xy[:,1], scale=2.8)\n",
    "plt.quiver(origin_xy[:,0],origin_xy[:,1], r0_xy[:,0], r0_xy[:,1], scale=2.8, alpha=0.3)\n",
    "plt.show()"
   ]
  },
  {
   "attachments": {},
   "cell_type": "markdown",
   "metadata": {},
   "source": [
    "Note that using the `np.rint()` rounding integer division would provide a quicker approach that would overcome the need for the corners loop. As shown in the following the results are indeed identical to the algorithm that relies on the corners. This approach is used very often in classical Molecular Dynamics, which usually involves orthorombic cells. However, this approach may fail for non-orthorombic cells, which are more common in condensed matter simulations (see later for the hexagonal cell)."
   ]
  },
  {
   "cell_type": "code",
   "execution_count": null,
   "metadata": {},
   "outputs": [],
   "source": [
    "r = grid.r - origin[:, np.newaxis, np.newaxis, np.newaxis]\n",
    "s = np.einsum('lijk,ml->mijk', r, reciprocal_lattice)\n",
    "s -= np.rint(s)\n",
    "r = np.einsum('lm,lijk->mijk', grid.lattice, s)\n",
    "#\n",
    "plot_minimal_cell_xy(origin)\n",
    "#\n",
    "origin_xy = grid.r[:,:,:,0].reshape(3,4).T[:,:2]\n",
    "r_xy = -rmin[:,:,:,0].reshape(3,4).T[:,:2]\n",
    "plt.quiver(origin_xy[:,0],origin_xy[:,1], r_xy[:,0], r_xy[:,1], scale=2.8)\n",
    "plt.show()"
   ]
  },
  {
   "attachments": {},
   "cell_type": "markdown",
   "metadata": {},
   "source": [
    "#### Distances in Lower Dimensions"
   ]
  },
  {
   "attachments": {},
   "cell_type": "markdown",
   "metadata": {},
   "source": [
    "##### Distance from a Line"
   ]
  },
  {
   "cell_type": "code",
   "execution_count": null,
   "metadata": {},
   "outputs": [],
   "source": [
    "dim = 1 # line passing throught the origin\n",
    "axis = 1 # oriented along the i-th axis, i = 0, 1, 2\n",
    "origin = np.array([0.9, 0.2, 0.0])"
   ]
  },
  {
   "cell_type": "code",
   "execution_count": null,
   "metadata": {},
   "outputs": [],
   "source": [
    "r = grid.r - origin[:, np.newaxis, np.newaxis, np.newaxis]\n",
    "s = np.einsum('lijk,ml->mijk', r, reciprocal_lattice)\n",
    "s -= np.floor(s)\n",
    "r = np.einsum('lm,lijk->mijk', grid.lattice, s)\n",
    "\n",
    "# determines the direction of the line\n",
    "n = grid.cell[axis,:]\n",
    "# removes the component directed along n\n",
    "r = r - np.einsum('jkl,i->ijkl',np.einsum('ijkl,i->jkl',r,n),n)\n",
    "\n",
    "# pre-corner-check results\n",
    "rmin = r\n",
    "r2min = np.einsum('i...,i...', r, r)\n",
    "\n",
    "# check against corner shifts\n",
    "t = r\n",
    "for corner in grid.corners[1:]:\n",
    "    r = t + corner[:,np.newaxis,np.newaxis,np.newaxis]\n",
    "    r = r - np.einsum('jkl,i->ijkl',np.einsum('ijkl,i->jkl',r,n),n)\n",
    "    r2 = np.einsum('i...,i...', r, r)\n",
    "    mask = r2 < r2min\n",
    "    rmin = np.where(mask[np.newaxis, :, :, :], r, rmin)\n",
    "    r2min = np.where(mask, r2, r2min)"
   ]
  },
  {
   "cell_type": "code",
   "execution_count": null,
   "metadata": {},
   "outputs": [],
   "source": [
    "plot_minimal_cell_xy(origin)\n",
    "#\n",
    "origin_xy = grid.r[:,:,:,0].reshape(3,4).T[:,:2]\n",
    "r_xy = -rmin[:,:,:,0].reshape(3,4).T[:,:2]\n",
    "plt.quiver(origin_xy[:,0],origin_xy[:,1], r_xy[:,0], r_xy[:,1], scale=2.8)\n",
    "plt.show()"
   ]
  },
  {
   "attachments": {},
   "cell_type": "markdown",
   "metadata": {},
   "source": [
    "##### Distance from a Plane"
   ]
  },
  {
   "cell_type": "code",
   "execution_count": null,
   "metadata": {},
   "outputs": [],
   "source": [
    "dim = 2 # line passing throught the origin\n",
    "axis = 1 # oriented perpendicular to the i-th axis, i = 0, 1, 2\n",
    "origin = np.array([0.9, 0.2, 0.0])"
   ]
  },
  {
   "cell_type": "code",
   "execution_count": null,
   "metadata": {},
   "outputs": [],
   "source": [
    "r = grid.r - origin[:, np.newaxis, np.newaxis, np.newaxis]\n",
    "s = np.einsum('lijk,ml->mijk', r, reciprocal_lattice)\n",
    "s -= np.floor(s)\n",
    "r = np.einsum('lm,lijk->mijk', grid.lattice, s)\n",
    "\n",
    "# determine the two directions of the plane\n",
    "n1, n2 = grid.cell[np.arange(3)!=axis,:]\n",
    "# take the cross product to get the perpendicular direction\n",
    "n = np.cross(n2,n1)\n",
    "# only keep the component directed along n\n",
    "r = np.einsum('jkl,i->ijkl',np.einsum('ijkl,i->jkl',r,n),n)\n",
    "\n",
    "# pre-corner-check results\n",
    "rmin = r\n",
    "r2min = np.einsum('i...,i...', r, r)\n",
    "\n",
    "# check against corner shifts\n",
    "t = r\n",
    "for corner in grid.corners[1:]:\n",
    "    r = t + corner[:,np.newaxis,np.newaxis,np.newaxis]\n",
    "    r = np.einsum('jkl,i->ijkl',np.einsum('ijkl,i->jkl',r,n),n)\n",
    "    r2 = np.einsum('i...,i...', r, r)\n",
    "    mask = r2 < r2min\n",
    "    rmin = np.where(mask[np.newaxis, :, :, :], r, rmin)\n",
    "    r2min = np.where(mask, r2, r2min)"
   ]
  },
  {
   "cell_type": "code",
   "execution_count": null,
   "metadata": {},
   "outputs": [],
   "source": [
    "plot_minimal_cell_xy(origin)\n",
    "#\n",
    "origin_xy = grid.r[:,:,:,0].reshape(3,4).T[:,:2]\n",
    "r_xy = -rmin[:,:,:,0].reshape(3,4).T[:,:2]\n",
    "plt.quiver(origin_xy[:,0],origin_xy[:,1], r_xy[:,0], r_xy[:,1], scale=2.8)\n",
    "plt.show()"
   ]
  },
  {
   "attachments": {},
   "cell_type": "markdown",
   "metadata": {},
   "source": [
    "#### Distances and Translational Symmetry"
   ]
  },
  {
   "attachments": {},
   "cell_type": "markdown",
   "metadata": {},
   "source": [
    "It is important that the computed distances do not depend on arbitrary translations of the origin by a lattice vector. The use of scaled coordinates and `np.floor()` is to ensure that the image closest to the gridpoints is selected. We can add an arbitrary shift by a lattice vectore to our point"
   ]
  },
  {
   "cell_type": "code",
   "execution_count": null,
   "metadata": {},
   "outputs": [],
   "source": [
    "shift = [1, -1, 0] # shift the point by a lattice vector\n",
    "origin_shifted = origin + np.dot(grid.cell.T,np.array(shift))\n",
    "print(origin_shifted)"
   ]
  },
  {
   "attachments": {},
   "cell_type": "markdown",
   "metadata": {},
   "source": [
    "and the results are not affected"
   ]
  },
  {
   "cell_type": "code",
   "execution_count": null,
   "metadata": {},
   "outputs": [],
   "source": [
    "plot_minimal_cell_xy(origin_shifted)\n",
    "plt.xlim(-1.1,2.1)\n",
    "#\n",
    "rmin, r2min = grid.get_min_distance(origin_shifted)\n",
    "origin_xy = grid.r[:,:,:,0].reshape(3,4).T[:,:2]\n",
    "r_xy = -rmin[:,:,:,0].reshape(3,4).T[:,:2]\n",
    "plt.quiver(origin_xy[:,0],origin_xy[:,1], r_xy[:,0], r_xy[:,1], scale=3.2)\n",
    "plt.show()"
   ]
  },
  {
   "cell_type": "code",
   "execution_count": null,
   "metadata": {},
   "outputs": [],
   "source": [
    "plot_minimal_cell_xy(origin_shifted)\n",
    "plt.xlim(-1.1,2.1)\n",
    "#\n",
    "rmin, r2min = grid.get_min_distance(origin_shifted,dim=1,axis=0)\n",
    "origin_xy = grid.r[:,:,:,0].reshape(3,4).T[:,:2]\n",
    "r_xy = -rmin[:,:,:,0].reshape(3,4).T[:,:2]\n",
    "plt.quiver(origin_xy[:,0],origin_xy[:,1], r_xy[:,0], r_xy[:,1], scale=3.2)\n",
    "plt.show()"
   ]
  },
  {
   "attachments": {},
   "cell_type": "markdown",
   "metadata": {},
   "source": [
    "### Hexagonal Cell"
   ]
  },
  {
   "cell_type": "code",
   "execution_count": null,
   "metadata": {},
   "outputs": [],
   "source": [
    "at = np.eye(3) * 1\n",
    "at[1, 0] = 0.5\n",
    "at[1, 1] *= np.sqrt(3) * 0.5\n",
    "nr = np.array([2, 2, 2])\n",
    "hexagonal_cell = EnvironGrid(at, nr, label='system')"
   ]
  },
  {
   "cell_type": "code",
   "execution_count": null,
   "metadata": {},
   "outputs": [],
   "source": [
    "grid = hexagonal_cell\n",
    "#\n",
    "fig, ax = plt.subplots()\n",
    "ax.set_aspect('equal', 'box')\n",
    "ax.set_xlim(-1.7,2.6)\n",
    "ax.set_ylim(-1.1,1.6)\n",
    "# cell boundaries\n",
    "v0 = np.zeros(2)\n",
    "v1 = grid.cell.real[0,:2]\n",
    "v2 = grid.cell.real[1,:2]\n",
    "v3 = grid.cell.real[0,:2] + grid.cell.real[1,:2]\n",
    "plt.plot([v0[0],v1[0]],[v0[1],v1[1]],':',color='b')\n",
    "plt.plot([v0[0],v2[0]],[v0[1],v2[1]],':',color='b')\n",
    "plt.plot([v1[0],v3[0]],[v1[1],v3[1]],':',color='b')\n",
    "plt.plot([v2[0],v3[0]],[v2[1],v3[1]],':',color='b')\n",
    "# gridpoints\n",
    "ax.scatter(grid.r[0,:,:,0],grid.r[1,:,:,0],color='r')\n",
    "# some periodic images of the gripoints\n",
    "ax.scatter(grid.r[0,:,:,0]+v1[0],grid.r[1,:,:,0]+v1[1],color='r',alpha=0.2)\n",
    "ax.scatter(grid.r[0,:,:,0]+v2[0],grid.r[1,:,:,0]+v2[1],color='r',alpha=0.2)\n",
    "ax.scatter(grid.r[0,:,:,0]+v3[0],grid.r[1,:,:,0]+v3[1],color='r',alpha=0.2)\n",
    "ax.scatter(grid.r[0,:,:,0]-v1[0],grid.r[1,:,:,0]-v1[1],color='r',alpha=0.2)\n",
    "ax.scatter(grid.r[0,:,:,0]-v2[0],grid.r[1,:,:,0]-v2[1],color='r',alpha=0.2)\n",
    "ax.scatter(grid.r[0,:,:,0]-v3[0],grid.r[1,:,:,0]-v3[1],color='r',alpha=0.2)\n",
    "ax.scatter(grid.r[0,:,:,0]+v2[0]-v1[0],grid.r[1,:,:,0]+v2[1]-v1[1],color='r',alpha=0.2)\n",
    "ax.scatter(grid.r[0,:,:,0]+v1[0]-v2[0],grid.r[1,:,:,0]+v1[1]-v2[1],color='r',alpha=0.2)\n",
    "# corners\n",
    "plt.scatter(grid.corners[grid.corners[:,2]==0][1:,0],grid.corners[grid.corners[:,2]==0][1:,1])\n",
    "# random point\n",
    "plt.scatter([1.1],[0.1])\n",
    "plt.show()"
   ]
  },
  {
   "cell_type": "code",
   "execution_count": null,
   "metadata": {},
   "outputs": [],
   "source": [
    "origin = np.array([1.1,0.1,0.])"
   ]
  },
  {
   "cell_type": "code",
   "execution_count": null,
   "metadata": {},
   "outputs": [],
   "source": [
    "dr,dr2 = grid.get_min_distance(origin,dim=1,axis=1)"
   ]
  },
  {
   "cell_type": "code",
   "execution_count": null,
   "metadata": {},
   "outputs": [],
   "source": [
    "dr.reshape(3,8).T"
   ]
  },
  {
   "cell_type": "code",
   "execution_count": null,
   "metadata": {},
   "outputs": [],
   "source": [
    "dr2.reshape(8)"
   ]
  }
 ],
 "metadata": {
  "kernelspec": {
   "display_name": "Python 3",
   "language": "python",
   "name": "python3"
  },
  "language_info": {
   "codemirror_mode": {
    "name": "ipython",
    "version": 3
   },
   "file_extension": ".py",
   "mimetype": "text/x-python",
   "name": "python",
   "nbconvert_exporter": "python",
   "pygments_lexer": "ipython3",
   "version": "3.9.6"
  },
  "orig_nbformat": 4
 },
 "nbformat": 4,
 "nbformat_minor": 2
}
