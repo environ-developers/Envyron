{
 "cells": [
  {
   "cell_type": "markdown",
   "metadata": {},
   "source": [
    "# Using QEPy with Envyron\n",
    "## Simulations of Isolated Systems Under External Pressure"
   ]
  },
  {
   "cell_type": "code",
   "execution_count": null,
   "metadata": {},
   "outputs": [],
   "source": [
    "import qepy\n",
    "import importlib"
   ]
  },
  {
   "cell_type": "code",
   "execution_count": null,
   "metadata": {},
   "outputs": [],
   "source": [
    "import numpy as np\n",
    "from qepy.driver import Driver\n",
    "from qepy.io import QEInput"
   ]
  },
  {
   "cell_type": "code",
   "execution_count": null,
   "metadata": {},
   "outputs": [],
   "source": [
    "from ase import Atoms\n",
    "import matplotlib.pyplot as plt"
   ]
  },
  {
   "cell_type": "markdown",
   "metadata": {},
   "source": [
    "## Set System and QE Parameters"
   ]
  },
  {
   "cell_type": "code",
   "execution_count": null,
   "metadata": {},
   "outputs": [],
   "source": [
    "qe_options = {\n",
    "    '&control': {\n",
    "        'calculation': \"'scf'\",\n",
    "        'pseudo_dir': \"'./data/pseudo/'\"\n",
    "    },\n",
    "    '&system': {\n",
    "        'ecutrho' : 150,\n",
    "        'ecutwfc' : 30,\n",
    "        'ibrav' : 0,\n",
    "        'nat' : 3,\n",
    "        'ntyp' : 2,\n",
    "        'ibrav' : 0\n",
    "    },\n",
    "    '&electrons': {\n",
    "        'conv_thr' : 1e-10,\n",
    "        'diagonalization' : \"'cg'\",\n",
    "        'mixing_beta' : 0.4,\n",
    "        'electron_maxstep' : 200\n",
    "    },\n",
    "    'atomic_positions bohr': ['O   6.79  7.05  6.50','H   8.45  6.22  6.50','H   5.56  5.66  6.50'],\n",
    "    'atomic_species': ['H   1.  H.pbe-rrkjus.UPF','O  16.  O.pbe-rrkjus.UPF'],\n",
    "    'k_points automatic': ['1 1 1 0 0 0'],\n",
    "    'cell_parameters bohr':[\n",
    "        '15.  0.    0.',\n",
    "        '0.  15.    0.',\n",
    "        '0.   0.   15.'],\n",
    "}"
   ]
  },
  {
   "cell_type": "code",
   "execution_count": null,
   "metadata": {},
   "outputs": [],
   "source": [
    "driver=Driver(qe_options=qe_options, iterative = True, logfile='tmp.out')"
   ]
  },
  {
   "cell_type": "markdown",
   "metadata": {},
   "source": [
    "Run the SCF loop in the notebook"
   ]
  },
  {
   "cell_type": "code",
   "execution_count": null,
   "metadata": {},
   "outputs": [],
   "source": [
    "for i in range(60):\n",
    "    driver.diagonalize()\n",
    "    driver.mix()\n",
    "    converged = driver.check_convergence()\n",
    "    print ('Iter: ',i,' - Conv: ', driver.get_scf_error())\n",
    "    if converged : break\n",
    "driver.calc_energy()"
   ]
  },
  {
   "cell_type": "markdown",
   "metadata": {},
   "source": [
    "## Setup Environment and Calculator"
   ]
  },
  {
   "cell_type": "markdown",
   "metadata": {},
   "source": [
    "Extract ASE atoms from the QEPy driver"
   ]
  },
  {
   "cell_type": "code",
   "execution_count": null,
   "metadata": {},
   "outputs": [],
   "source": [
    "atoms = driver.get_ase_atoms()"
   ]
  },
  {
   "cell_type": "markdown",
   "metadata": {},
   "source": [
    "Convert ASE atoms data into the quantities expected by Environ\n",
    "\n",
    "NOTE: valence charges need to be extracted from the QEpy driver"
   ]
  },
  {
   "cell_type": "code",
   "execution_count": null,
   "metadata": {},
   "outputs": [],
   "source": [
    "natoms = len(atoms.numbers)\n",
    "ntypes = len(np.unique(atoms.numbers))\n",
    "ion_ids = list(np.unique(atoms.numbers))\n",
    "ion_labels = list(np.unique(atoms.get_chemical_symbols()))\n",
    "ion_weigths = list(np.unique(atoms.get_masses()))\n",
    "itypes = [ ion_ids.index(id) for id in atoms.numbers]\n",
    "zv = list(driver.qepy.ions_base.get_array_zv()[:ntypes])\n",
    "coords = atoms.positions / 0.52917720859"
   ]
  },
  {
   "cell_type": "markdown",
   "metadata": {},
   "source": [
    "Generate an Environ grid extracting information on the cell and grid from the driver"
   ]
  },
  {
   "cell_type": "code",
   "execution_count": null,
   "metadata": {},
   "outputs": [],
   "source": [
    "from envyron.domains import EnvironGrid\n",
    "at = driver.get_ions_lattice()\n",
    "nr = driver.get_number_of_grid_points()\n",
    "grid = EnvironGrid(at, nr, label='system')"
   ]
  },
  {
   "cell_type": "code",
   "execution_count": null,
   "metadata": {},
   "outputs": [],
   "source": [
    "from envyron.representations import EnvironDensity\n",
    "rho = EnvironDensity(grid)"
   ]
  },
  {
   "cell_type": "markdown",
   "metadata": {},
   "source": [
    "Read Environ input"
   ]
  },
  {
   "cell_type": "code",
   "execution_count": null,
   "metadata": {},
   "outputs": [],
   "source": [
    "from envyron.io.input import Input\n",
    "my_input = Input(natoms=natoms, filename='data/volume.yml')"
   ]
  },
  {
   "cell_type": "markdown",
   "metadata": {},
   "source": [
    "Create the Environ Setup "
   ]
  },
  {
   "cell_type": "code",
   "execution_count": null,
   "metadata": {},
   "outputs": [],
   "source": [
    "from envyron.setup import Setup\n",
    "my_setup = Setup(my_input)\n",
    "my_setup.init_cell(grid)\n",
    "my_setup.init_numerical(False)"
   ]
  },
  {
   "cell_type": "markdown",
   "metadata": {},
   "source": [
    "Create the Environ Object"
   ]
  },
  {
   "cell_type": "code",
   "execution_count": null,
   "metadata": {},
   "outputs": [],
   "source": [
    "from envyron.main import Main\n",
    "environ = Main(my_setup,natoms,ntypes,itypes,zv,ion_ids)\n",
    "environ.update_cell_dependent_quantities()\n",
    "environ.update_ions(coords)"
   ]
  },
  {
   "cell_type": "markdown",
   "metadata": {},
   "source": [
    "Setup the Environ Calculator"
   ]
  },
  {
   "cell_type": "code",
   "execution_count": null,
   "metadata": {},
   "outputs": [],
   "source": [
    "from envyron.calculator import Calculator\n",
    "my_calculator = Calculator(environ)"
   ]
  },
  {
   "cell_type": "markdown",
   "metadata": {},
   "source": [
    "## Run the Calculation with Environ"
   ]
  },
  {
   "cell_type": "markdown",
   "metadata": {},
   "source": [
    "Restart a new driver"
   ]
  },
  {
   "cell_type": "code",
   "execution_count": null,
   "metadata": {},
   "outputs": [],
   "source": [
    "driver=Driver(qe_options=qe_options, iterative = True, logfile='tmp.out')"
   ]
  },
  {
   "cell_type": "code",
   "execution_count": null,
   "metadata": {},
   "outputs": [],
   "source": [
    "volumes = []\n",
    "for i in range(60):\n",
    "\n",
    "    driver.diagonalize()\n",
    "    driver.mix()\n",
    "    converged = driver.check_convergence()\n",
    "    print ('Iter: ',i,' - Conv: ', driver.get_scf_error())\n",
    "    if converged : break\n",
    "\n",
    "    # pass new electronic density to Environ\n",
    "    rho = driver.data2field(driver.get_density().copy())\n",
    "    environ.update_electrons(rho)\n",
    "    volumes.append(environ.solvent.volume)\n",
    "    # compute Environ contribution to the energy\n",
    "    my_calculator.energy()\n",
    "    driver.embed.extene = environ.evolume\n",
    "    my_calculator.potential(True)\n",
    "    driver.set_external_potential(driver.field2data(environ.vsoftcavity), exttype=0)\n",
    "\n",
    "etot = driver.calc_energy()\n",
    "print(etot, environ.evolume, etot + environ.evolume)"
   ]
  }
 ],
 "metadata": {
  "kernelspec": {
   "display_name": "Python 3",
   "language": "python",
   "name": "python3"
  },
  "language_info": {
   "codemirror_mode": {
    "name": "ipython",
    "version": 3
   },
   "file_extension": ".py",
   "mimetype": "text/x-python",
   "name": "python",
   "nbconvert_exporter": "python",
   "pygments_lexer": "ipython3"
  }
 },
 "nbformat": 4,
 "nbformat_minor": 2
}
