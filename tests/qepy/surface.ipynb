{
 "cells": [
  {
   "cell_type": "markdown",
   "metadata": {},
   "source": [
    "# Using QEPy with Envyron\n",
    "## Simulations of Isolated Systems in a Surface-Tension Medium"
   ]
  },
  {
   "cell_type": "code",
   "execution_count": null,
   "metadata": {},
   "outputs": [],
   "source": [
    "import qepy\n",
    "import importlib"
   ]
  },
  {
   "cell_type": "code",
   "execution_count": null,
   "metadata": {},
   "outputs": [],
   "source": [
    "import numpy as np\n",
    "from qepy.driver import Driver\n",
    "from qepy.io import QEInput"
   ]
  },
  {
   "cell_type": "code",
   "execution_count": null,
   "metadata": {},
   "outputs": [],
   "source": [
    "from ase import Atoms\n",
    "import matplotlib.pyplot as plt"
   ]
  },
  {
   "cell_type": "markdown",
   "metadata": {},
   "source": [
    "## Set System and QE Parameters"
   ]
  },
  {
   "cell_type": "code",
   "execution_count": null,
   "metadata": {},
   "outputs": [],
   "source": [
    "qe_options = {\n",
    "    '&control': {\n",
    "        'calculation': \"'scf'\",\n",
    "        'pseudo_dir': \"'./data/pseudo/'\"\n",
    "    },\n",
    "    '&system': {\n",
    "        'ecutrho' : 150,\n",
    "        'ecutwfc' : 30,\n",
    "        'ibrav' : 0,\n",
    "        'nat' : 3,\n",
    "        'ntyp' : 2,\n",
    "        'ibrav' : 0\n",
    "    },\n",
    "    '&electrons': {\n",
    "        'conv_thr' : 1e-10,\n",
    "        'diagonalization' : \"'cg'\",\n",
    "        'mixing_beta' : 0.4,\n",
    "        'electron_maxstep' : 200\n",
    "    },\n",
    "    'atomic_positions bohr': ['O   6.79  7.05  6.50','H   8.45  6.22  6.50','H   5.56  5.66  6.50'],\n",
    "    'atomic_species': ['H   1.  H.pbe-rrkjus.UPF','O  16.  O.pbe-rrkjus.UPF'],\n",
    "    'k_points automatic': ['1 1 1 0 0 0'],\n",
    "    'cell_parameters bohr':[\n",
    "        '15.  0.    0.',\n",
    "        '0.  15.    0.',\n",
    "        '0.   0.   15.'],\n",
    "}"
   ]
  },
  {
   "cell_type": "code",
   "execution_count": null,
   "metadata": {},
   "outputs": [],
   "source": [
    "driver=Driver(qe_options=qe_options, iterative = True, logfile='tmp.out', ldscf=True)"
   ]
  },
  {
   "cell_type": "markdown",
   "metadata": {},
   "source": [
    "Run the SCF loop in the notebook"
   ]
  },
  {
   "cell_type": "code",
   "execution_count": null,
   "metadata": {},
   "outputs": [],
   "source": [
    "for i in range(60):\n",
    "    driver.diagonalize()\n",
    "    driver.mix()\n",
    "    converged = driver.check_convergence()\n",
    "    print ('Iter: ',i,' - Conv: ', driver.get_scf_error())\n",
    "    if converged : break\n",
    "driver.calc_energy()"
   ]
  },
  {
   "cell_type": "markdown",
   "metadata": {},
   "source": [
    "## Setup Environment and Calculator"
   ]
  },
  {
   "cell_type": "markdown",
   "metadata": {},
   "source": [
    "Extract ASE atoms from the QEPy driver"
   ]
  },
  {
   "cell_type": "code",
   "execution_count": null,
   "metadata": {},
   "outputs": [],
   "source": [
    "atoms = driver.get_ase_atoms()"
   ]
  },
  {
   "cell_type": "markdown",
   "metadata": {},
   "source": [
    "Convert ASE atoms data into the quantities expected by Environ\n",
    "\n",
    "NOTE: valence charges need to be extracted from the QEpy driver"
   ]
  },
  {
   "cell_type": "code",
   "execution_count": null,
   "metadata": {},
   "outputs": [],
   "source": [
    "natoms = len(atoms.numbers)\n",
    "ntypes = len(np.unique(atoms.numbers))\n",
    "ion_ids = list(np.unique(atoms.numbers))\n",
    "ion_labels = list(np.unique(atoms.get_chemical_symbols()))\n",
    "ion_weigths = list(np.unique(atoms.get_masses()))\n",
    "itypes = [ ion_ids.index(id) for id in atoms.numbers]\n",
    "zv = list(driver.qepy_modules.ions_base.get_array_zv()[:ntypes])\n",
    "coords = atoms.positions / 0.52917720859"
   ]
  },
  {
   "cell_type": "markdown",
   "metadata": {},
   "source": [
    "Generate an Environ grid extracting information on the cell and grid from the driver"
   ]
  },
  {
   "cell_type": "code",
   "execution_count": null,
   "metadata": {},
   "outputs": [],
   "source": [
    "from envyron.domains import EnvironGrid\n",
    "at = driver.get_ions_lattice()\n",
    "nr = driver.get_number_of_grid_points()\n",
    "grid = EnvironGrid(at, nr, label='system')"
   ]
  },
  {
   "cell_type": "code",
   "execution_count": null,
   "metadata": {},
   "outputs": [],
   "source": [
    "from envyron.representations import EnvironDensity\n",
    "rho = EnvironDensity(grid)"
   ]
  },
  {
   "cell_type": "markdown",
   "metadata": {},
   "source": [
    "Read Environ input"
   ]
  },
  {
   "cell_type": "code",
   "execution_count": null,
   "metadata": {},
   "outputs": [],
   "source": [
    "from envyron.io.input import Input\n",
    "my_input = Input(natoms=natoms, filename='data/surface.yml')"
   ]
  },
  {
   "cell_type": "markdown",
   "metadata": {},
   "source": [
    "Create the Environ Setup "
   ]
  },
  {
   "cell_type": "code",
   "execution_count": null,
   "metadata": {},
   "outputs": [],
   "source": [
    "from envyron.setup import Setup\n",
    "my_setup = Setup(my_input)\n",
    "my_setup.init_cell(grid)\n",
    "my_setup.init_numerical(False)"
   ]
  },
  {
   "cell_type": "markdown",
   "metadata": {},
   "source": [
    "Create the Environ Object"
   ]
  },
  {
   "cell_type": "code",
   "execution_count": null,
   "metadata": {},
   "outputs": [],
   "source": [
    "from envyron.main import Main\n",
    "environ = Main(my_setup,natoms,ntypes,itypes,zv,ion_ids)\n",
    "environ.update_cell_dependent_quantities()\n",
    "environ.update_ions(coords)"
   ]
  },
  {
   "cell_type": "markdown",
   "metadata": {},
   "source": [
    "Setup the Environ Calculator"
   ]
  },
  {
   "cell_type": "code",
   "execution_count": null,
   "metadata": {},
   "outputs": [],
   "source": [
    "from envyron.calculator import Calculator\n",
    "my_calculator = Calculator(environ)"
   ]
  },
  {
   "cell_type": "markdown",
   "metadata": {},
   "source": [
    "## Run the Calculation with Environ"
   ]
  },
  {
   "cell_type": "markdown",
   "metadata": {},
   "source": [
    "Restart a new driver"
   ]
  },
  {
   "cell_type": "code",
   "execution_count": null,
   "metadata": {},
   "outputs": [],
   "source": [
    "driver=Driver(qe_options=qe_options, iterative = True, logfile='tmp.out', ldescf=True)"
   ]
  },
  {
   "cell_type": "code",
   "execution_count": null,
   "metadata": {},
   "outputs": [],
   "source": [
    "rho = driver.data2field(driver.get_density().copy())\n",
    "environ.update_electrons(rho)\n",
    "surfaces = [environ.solvent.surface]\n",
    "volumes = [environ.solvent.volume]"
   ]
  },
  {
   "cell_type": "code",
   "execution_count": null,
   "metadata": {},
   "outputs": [],
   "source": [
    "for i in range(60):\n",
    "\n",
    "    driver.diagonalize()\n",
    "    driver.mix()\n",
    "    converged = driver.check_convergence()\n",
    "    print ('Iter: ',i,' - Conv: ', driver.get_scf_error())\n",
    "    if converged : break\n",
    "\n",
    "    # compute Environ contribution to the energy\n",
    "    my_calculator.energy()\n",
    "    # pass new electronic density to Environ\n",
    "    rho = driver.data2field(driver.get_density().copy())\n",
    "    environ.update_electrons(rho)\n",
    "    # compute Environ contribution to the potential \n",
    "    my_calculator.potential(True)\n",
    "\n",
    "    # saves volumes\n",
    "    surfaces.append(environ.solvent.surface)\n",
    "    volumes.append(environ.solvent.volume)\n",
    "\n",
    "    driver.embed.extene = environ.esurface\n",
    "    driver.set_external_potential(driver.field2data(environ.vsoftcavity), exttype=0)\n",
    "\n",
    "etot = driver.get_energy()\n",
    "my_calculator.energy()\n",
    "print(etot, environ.esurface, etot + environ.esurface)\n",
    "etot = driver.calc_energy()"
   ]
  },
  {
   "cell_type": "code",
   "execution_count": null,
   "metadata": {},
   "outputs": [],
   "source": [
    "environ.vsoftcavity.integral()"
   ]
  },
  {
   "cell_type": "code",
   "execution_count": null,
   "metadata": {},
   "outputs": [],
   "source": [
    "reference_surfaces_chain = [420.2466823, 324.7721826, 220.7000072, 179.6244348, 182.3205339, 182.3622363, 182.6495202, 183.1627543, 183.2637461, 183.3127414, 183.2923328, 183.3210003, 183.3252566, 183.3491582, 183.3266997, 183.3353964, 183.3353964]\n",
    "reference_surfaces_fft = [357.0177518, 289.7736811, 240.0993095, 212.9943399, 216.0989554, 215.6295828, 215.9762042, 216.3968949, 216.4501114, 216.4470844, 216.4719404, 216.4658392, 216.4648545, 216.4635649, 216.4629532, 216.4545856, 216.4526368, 216.4648408, 216.4863305, 216.4867332, 216.4766621, 216.4741522, 216.4764870, 216.4927295, 216.4951850, 216.4967752, 216.4895422, 216.4902171, 216.4871166, 216.4869689, 216.4849923, 216.4878092, 216.4873259, 216.4855476, 216.4832269, 216.4932361, 216.4990557, 216.4949343, 216.4797052, 216.4754609, 216.4703574, 216.4689084, 216.4793384, 216.4749973, 216.4748600, 216.4819177, 216.4696064, 216.4917723, 216.4928425, 216.4928270, 216.4942967, 216.4929711, 216.4859061, 216.4851681, 216.4800907, 216.4806906, 216.4828521, 216.4842396, 216.4835889, 216.4836822, 216.4834928, 216.4881784, 216.4881784]"
   ]
  },
  {
   "cell_type": "code",
   "execution_count": null,
   "metadata": {},
   "outputs": [],
   "source": [
    "plt.plot(reference_surfaces_fft,'o-')\n",
    "plt.plot(surfaces,'o:')\n",
    "#plt.ylim(210,220)\n",
    "#plt.ylim(182,187)"
   ]
  },
  {
   "cell_type": "code",
   "execution_count": null,
   "metadata": {},
   "outputs": [],
   "source": [
    "surfaces"
   ]
  }
 ],
 "metadata": {
  "kernelspec": {
   "display_name": "Python 3",
   "language": "python",
   "name": "python3"
  },
  "language_info": {
   "codemirror_mode": {
    "name": "ipython",
    "version": 3
   },
   "file_extension": ".py",
   "mimetype": "text/x-python",
   "name": "python",
   "nbconvert_exporter": "python",
   "pygments_lexer": "ipython3"
  }
 },
 "nbformat": 4,
 "nbformat_minor": 2
}
