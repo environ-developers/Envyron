{
 "cells": [
  {
   "cell_type": "code",
   "execution_count": 1,
   "metadata": {},
   "outputs": [],
   "source": [
    "import numpy as np\n",
    "from numpy.random import random\n",
    "from copy import  deepcopy"
   ]
  },
  {
   "cell_type": "markdown",
   "metadata": {},
   "source": [
    "# Load input\n"
   ]
  },
  {
   "cell_type": "code",
   "execution_count": 2,
   "metadata": {},
   "outputs": [],
   "source": [
    "from envyron.io.input import Input"
   ]
  },
  {
   "cell_type": "code",
   "execution_count": 3,
   "metadata": {},
   "outputs": [
    {
     "data": {
      "text/plain": [
       "IonsModel(atomicspread=[0.5, 0.5, 0.5], corespread=[0.5, 0.5, 0.5], solvationrad=[0.0, 0.0, 0.0])"
      ]
     },
     "execution_count": 3,
     "metadata": {},
     "output_type": "execute_result"
    }
   ],
   "source": [
    "natoms = 3\n",
    "my_input = Input(natoms=natoms, filename='test1.yml')\n",
    "my_input.ions"
   ]
  },
  {
   "cell_type": "markdown",
   "metadata": {},
   "source": [
    "# Initialize a cell\n"
   ]
  },
  {
   "cell_type": "code",
   "execution_count": 4,
   "metadata": {},
   "outputs": [],
   "source": [
    "from envyron.domains.cell import EnvironGrid"
   ]
  },
  {
   "cell_type": "code",
   "execution_count": 5,
   "metadata": {},
   "outputs": [
    {
     "name": "stdout",
     "output_type": "stream",
     "text": [
      "[0. 0. 0.]\n",
      "[[20.  0.  0.]\n",
      " [ 0. 20.  0.]\n",
      " [ 0.  0. 20.]]\n",
      "8000.0\n"
     ]
    }
   ],
   "source": [
    "L = 20.\n",
    "\n",
    "at = np.array([\n",
    "    [L, 0., 0.],\n",
    "    [0., L, 0.],\n",
    "    [0., 0., L],\n",
    "])\n",
    "\n",
    "nr = np.array([50, 50, 50])\n",
    "\n",
    "grid = EnvironGrid(at, nr, label='system')\n",
    "print(grid.origin)\n",
    "print(grid.lattice)\n",
    "print(grid.volume)"
   ]
  },
  {
   "cell_type": "markdown",
   "metadata": {},
   "source": [
    "# Compute minimum image distances\n"
   ]
  },
  {
   "cell_type": "code",
   "execution_count": 6,
   "metadata": {},
   "outputs": [],
   "source": [
    "r, r2 = grid.get_min_distance(grid.origin)"
   ]
  },
  {
   "cell_type": "markdown",
   "metadata": {},
   "source": [
    "# Initialize a density\n"
   ]
  },
  {
   "cell_type": "code",
   "execution_count": 7,
   "metadata": {},
   "outputs": [],
   "source": [
    "from envyron.representations import EnvironDensity"
   ]
  },
  {
   "cell_type": "code",
   "execution_count": 8,
   "metadata": {},
   "outputs": [
    {
     "name": "stdout",
     "output_type": "stream",
     "text": [
      "electrons\n"
     ]
    }
   ],
   "source": [
    "density = EnvironDensity(grid, data=random(nr), label='electrons')\n",
    "print(density.label)\n",
    "# density.standard_view()"
   ]
  },
  {
   "cell_type": "markdown",
   "metadata": {},
   "source": [
    "# Compute multipoles\n"
   ]
  },
  {
   "cell_type": "code",
   "execution_count": 9,
   "metadata": {},
   "outputs": [
    {
     "name": "stdout",
     "output_type": "stream",
     "text": [
      "charge = 4008.243862510079\n",
      "dipole = [379.83198911 433.02336006 374.27406715]\n",
      "quadrupole = [133646.79668845 133584.62546575 133773.61327042]\n"
     ]
    }
   ],
   "source": [
    "origin = np.ones(3) * 0.5\n",
    "density.compute_multipoles(origin)\n",
    "print(f\"charge = {density.charge}\")\n",
    "print(f\"dipole = {density.dipole}\")\n",
    "print(f\"quadrupole = {density.quadrupole}\")"
   ]
  },
  {
   "cell_type": "markdown",
   "metadata": {},
   "source": [
    "# Compute euclidean norm\n"
   ]
  },
  {
   "cell_type": "code",
   "execution_count": 10,
   "metadata": {},
   "outputs": [],
   "source": [
    "en = density.euclidean_norm()\n",
    "# en"
   ]
  },
  {
   "cell_type": "markdown",
   "metadata": {},
   "source": [
    "# Compute quadratic mean\n"
   ]
  },
  {
   "cell_type": "code",
   "execution_count": 11,
   "metadata": {},
   "outputs": [],
   "source": [
    "qm = density.quadratic_mean()\n",
    "# qm"
   ]
  },
  {
   "cell_type": "markdown",
   "metadata": {},
   "source": [
    "# Compute scalar product\n"
   ]
  },
  {
   "cell_type": "code",
   "execution_count": 12,
   "metadata": {},
   "outputs": [],
   "source": [
    "other_density = EnvironDensity(grid, data=random(nr))\n",
    "sp = density.scalar_product(other_density)\n",
    "# sp"
   ]
  },
  {
   "cell_type": "markdown",
   "metadata": {},
   "source": [
    "# Initialize a gradient\n"
   ]
  },
  {
   "cell_type": "code",
   "execution_count": 13,
   "metadata": {},
   "outputs": [],
   "source": [
    "from envyron.representations import EnvironGradient"
   ]
  },
  {
   "cell_type": "code",
   "execution_count": 14,
   "metadata": {},
   "outputs": [
    {
     "name": "stdout",
     "output_type": "stream",
     "text": [
      "electrons\n"
     ]
    }
   ],
   "source": [
    "gradient = EnvironGradient(grid, data=random((3, *nr)), label='electrons')\n",
    "print(gradient.label)\n",
    "# gradient.standard_view()"
   ]
  },
  {
   "cell_type": "markdown",
   "metadata": {},
   "source": [
    "# Compute modulus\n"
   ]
  },
  {
   "cell_type": "code",
   "execution_count": 15,
   "metadata": {},
   "outputs": [
    {
     "name": "stdout",
     "output_type": "stream",
     "text": [
      "electrons_modulus\n"
     ]
    }
   ],
   "source": [
    "mod = gradient.modulus\n",
    "print(mod.label)\n",
    "# mod.standard_view()"
   ]
  },
  {
   "cell_type": "markdown",
   "metadata": {},
   "source": [
    "# Compute scalar products\n"
   ]
  },
  {
   "cell_type": "code",
   "execution_count": 16,
   "metadata": {},
   "outputs": [],
   "source": [
    "other_gradient = EnvironGradient(grid, data=random((3, *nr)))\n",
    "sgp = gradient.scalar_gradient_product(other_gradient)\n",
    "# sgp.standard_view()"
   ]
  },
  {
   "cell_type": "code",
   "execution_count": 17,
   "metadata": {},
   "outputs": [],
   "source": [
    "sdp = gradient.scalar_density_product(density)\n",
    "# sdp"
   ]
  },
  {
   "cell_type": "markdown",
   "metadata": {},
   "source": [
    "# Initialize a hessian\n"
   ]
  },
  {
   "cell_type": "code",
   "execution_count": 18,
   "metadata": {},
   "outputs": [],
   "source": [
    "from envyron.representations import EnvironHessian"
   ]
  },
  {
   "cell_type": "code",
   "execution_count": 19,
   "metadata": {},
   "outputs": [
    {
     "name": "stdout",
     "output_type": "stream",
     "text": [
      "boundary\n"
     ]
    }
   ],
   "source": [
    "hessian = EnvironHessian(grid, data=random((9, *nr)), label='boundary')\n",
    "print(hessian.label)\n",
    "# hessian.standard_view()"
   ]
  },
  {
   "cell_type": "markdown",
   "metadata": {},
   "source": [
    "# Compute laplacian\n"
   ]
  },
  {
   "cell_type": "code",
   "execution_count": 20,
   "metadata": {},
   "outputs": [
    {
     "name": "stdout",
     "output_type": "stream",
     "text": [
      "boundary laplacian\n"
     ]
    }
   ],
   "source": [
    "lapl = hessian.trace\n",
    "print(lapl.label)\n",
    "# hessian.laplacian.standard_view()"
   ]
  },
  {
   "cell_type": "markdown",
   "metadata": {},
   "source": [
    "# Compute scalar product\n"
   ]
  },
  {
   "cell_type": "code",
   "execution_count": 21,
   "metadata": {},
   "outputs": [],
   "source": [
    "sgp = hessian.scalar_gradient_product(gradient)\n",
    "# sgp.standard_view()"
   ]
  },
  {
   "cell_type": "markdown",
   "metadata": {},
   "source": [
    "# Initialize a gaussian function\n"
   ]
  },
  {
   "cell_type": "code",
   "execution_count": 22,
   "metadata": {},
   "outputs": [],
   "source": [
    "from envyron.representations.functions import EnvironGaussian"
   ]
  },
  {
   "cell_type": "code",
   "execution_count": 23,
   "metadata": {},
   "outputs": [
    {
     "data": {
      "text/plain": [
       "1"
      ]
     },
     "execution_count": 23,
     "metadata": {},
     "output_type": "execute_result"
    }
   ],
   "source": [
    "gaussian = EnvironGaussian(grid, 1, 0, 0, 0.5, 0.5, 0.5, np.array([5, 5, 5]), 'ions')\n",
    "gaussian.kind"
   ]
  },
  {
   "cell_type": "markdown",
   "metadata": {},
   "source": [
    "# Compute density of function\n"
   ]
  },
  {
   "cell_type": "code",
   "execution_count": 24,
   "metadata": {},
   "outputs": [
    {
     "name": "stdout",
     "output_type": "stream",
     "text": [
      "ions\n",
      "(50, 50, 50)\n",
      "125000\n",
      "2008\n"
     ]
    }
   ],
   "source": [
    "gd = gaussian.density\n",
    "print(gd.label)\n",
    "print(gd.shape)\n",
    "print(gd.size)\n",
    "print(gd[gd != 0].size)"
   ]
  },
  {
   "cell_type": "markdown",
   "metadata": {},
   "source": [
    "# Compute gradient of function\n"
   ]
  },
  {
   "cell_type": "code",
   "execution_count": 25,
   "metadata": {},
   "outputs": [
    {
     "name": "stdout",
     "output_type": "stream",
     "text": [
      "ions\n",
      "(3, 50, 50, 50)\n",
      "375000\n",
      "6024\n"
     ]
    }
   ],
   "source": [
    "gg = gaussian.gradient\n",
    "print(gg.label)\n",
    "print(gg.shape)\n",
    "print(gg.size)\n",
    "print(gg[gg != 0].size)"
   ]
  },
  {
   "cell_type": "markdown",
   "metadata": {},
   "source": [
    "# Initialize an erfc function\n"
   ]
  },
  {
   "cell_type": "code",
   "execution_count": 26,
   "metadata": {},
   "outputs": [],
   "source": [
    "from envyron.representations.functions import EnvironERFC"
   ]
  },
  {
   "cell_type": "code",
   "execution_count": 27,
   "metadata": {},
   "outputs": [
    {
     "data": {
      "text/plain": [
       "2"
      ]
     },
     "execution_count": 27,
     "metadata": {},
     "output_type": "execute_result"
    }
   ],
   "source": [
    "erfc = EnvironERFC(grid, 2, 0, 0, 0.5, 0.5, 0.5, np.array([5, 5, 5]), 'soft_spheres')\n",
    "erfc.kind"
   ]
  },
  {
   "cell_type": "markdown",
   "metadata": {},
   "source": [
    "# Compute density of function\n"
   ]
  },
  {
   "cell_type": "code",
   "execution_count": 28,
   "metadata": {},
   "outputs": [
    {
     "name": "stdout",
     "output_type": "stream",
     "text": [
      "soft_spheres\n",
      "(50, 50, 50)\n",
      "125000\n",
      "118816\n"
     ]
    }
   ],
   "source": [
    "ed = erfc.density\n",
    "print(ed.label)\n",
    "print(ed.shape)\n",
    "print(ed.size)\n",
    "print(ed[ed != 0].size)"
   ]
  },
  {
   "cell_type": "markdown",
   "metadata": {},
   "source": [
    "# Compute gradient of function\n"
   ]
  },
  {
   "cell_type": "code",
   "execution_count": 29,
   "metadata": {},
   "outputs": [
    {
     "name": "stdout",
     "output_type": "stream",
     "text": [
      "soft_spheres\n",
      "(3, 50, 50, 50)\n",
      "375000\n",
      "361920\n"
     ]
    }
   ],
   "source": [
    "eg = erfc.gradient\n",
    "print(eg.label)\n",
    "print(eg.shape)\n",
    "print(eg.size)\n",
    "print(eg[eg != 0].size)"
   ]
  },
  {
   "cell_type": "markdown",
   "metadata": {},
   "source": [
    "# Compute laplacian of function\n"
   ]
  },
  {
   "cell_type": "code",
   "execution_count": 30,
   "metadata": {},
   "outputs": [
    {
     "name": "stdout",
     "output_type": "stream",
     "text": [
      "soft_spheres\n",
      "(50, 50, 50)\n",
      "125000\n",
      "120688\n"
     ]
    }
   ],
   "source": [
    "el = erfc.laplacian\n",
    "print(el.label)\n",
    "print(el.shape)\n",
    "print(el.size)\n",
    "print(el[el != 0].size)"
   ]
  },
  {
   "cell_type": "markdown",
   "metadata": {},
   "source": [
    "# Compute hessian of function\n"
   ]
  },
  {
   "cell_type": "code",
   "execution_count": 31,
   "metadata": {},
   "outputs": [
    {
     "name": "stdout",
     "output_type": "stream",
     "text": [
      "soft_spheres\n",
      "(9, 50, 50, 50)\n",
      "1125000\n",
      "1086192\n"
     ]
    }
   ],
   "source": [
    "eh = erfc.hessian\n",
    "print(eh.label)\n",
    "print(eh.shape)\n",
    "print(eh.size)\n",
    "print(eh[eh != 0].size)"
   ]
  },
  {
   "cell_type": "markdown",
   "metadata": {},
   "source": [
    "# Compute derivative of function\n"
   ]
  },
  {
   "cell_type": "code",
   "execution_count": 32,
   "metadata": {},
   "outputs": [
    {
     "name": "stdout",
     "output_type": "stream",
     "text": [
      "soft_spheres\n",
      "(50, 50, 50)\n",
      "125000\n",
      "120688\n"
     ]
    }
   ],
   "source": [
    "edv = erfc.derivative\n",
    "print(edv.label)\n",
    "print(edv.shape)\n",
    "print(edv.size)\n",
    "print(edv[edv != 0].size)"
   ]
  },
  {
   "cell_type": "markdown",
   "metadata": {},
   "source": [
    "# Initialize ions"
   ]
  },
  {
   "cell_type": "code",
   "execution_count": 33,
   "metadata": {},
   "outputs": [],
   "source": [
    "from envyron.physical import EnvironIons"
   ]
  },
  {
   "cell_type": "code",
   "execution_count": 34,
   "metadata": {},
   "outputs": [],
   "source": [
    "ions = EnvironIons(\n",
    "    nions=natoms,\n",
    "    ntypes=2,\n",
    "    itypes=[0, 1, 1],\n",
    "    ion_ids=['O', 'H'],\n",
    "    zv=[6.0, 1.0],\n",
    "    atomicspread=my_input.ions.atomicspread,\n",
    "    corespread=my_input.ions.corespread,\n",
    "    solvationrad=my_input.ions.solvationrad,\n",
    "    radius_mode=my_input.solvent.radius_mode,\n",
    "    is_soft_cavity=False,\n",
    "    smear=True,\n",
    "    fill_cores=True,\n",
    "    grid=grid,\n",
    ")"
   ]
  },
  {
   "cell_type": "code",
   "execution_count": 35,
   "metadata": {},
   "outputs": [],
   "source": [
    "coords = np.array([\n",
    "    [11.79, 12.05, 11.50],\n",
    "    [13.45, 11.22, 11.50],\n",
    "    [10.56, 10.66, 11.50],\n",
    "])"
   ]
  },
  {
   "cell_type": "code",
   "execution_count": 36,
   "metadata": {},
   "outputs": [
    {
     "name": "stdout",
     "output_type": "stream",
     "text": [
      "O 1 0 0 0.0 0.5 -6.0 [0. 0. 0.]\n",
      "H 1 0 0 0.0 0.5 -1.0 [0. 0. 0.]\n",
      "H 1 0 0 0.0 0.5 -1.0 [0. 0. 0.]\n"
     ]
    }
   ],
   "source": [
    "for ion in ions.smeared_ions:\n",
    "    print(\n",
    "        ion.label,\n",
    "        ion.kind,\n",
    "        ion.dim,\n",
    "        ion.axis,\n",
    "        ion.width,\n",
    "        ion.spread,\n",
    "        ion.volume,\n",
    "        ion.pos,\n",
    "    )"
   ]
  },
  {
   "cell_type": "code",
   "execution_count": 37,
   "metadata": {},
   "outputs": [
    {
     "data": {
      "text/plain": [
       "2.7268748097539834"
      ]
     },
     "execution_count": 37,
     "metadata": {},
     "output_type": "execute_result"
    }
   ],
   "source": [
    "ions.iontypes[1].solvationrad"
   ]
  },
  {
   "cell_type": "code",
   "execution_count": 38,
   "metadata": {},
   "outputs": [],
   "source": [
    "ions.update(coords)"
   ]
  },
  {
   "cell_type": "code",
   "execution_count": 39,
   "metadata": {},
   "outputs": [
    {
     "name": "stdout",
     "output_type": "stream",
     "text": [
      "[11.79 12.05 11.5 ]\n",
      "[13.45 11.22 11.5 ]\n",
      "[10.56 10.66 11.5 ]\n"
     ]
    }
   ],
   "source": [
    "for ion in ions.smeared_ions:\n",
    "    print(ion.pos)"
   ]
  },
  {
   "cell_type": "code",
   "execution_count": 40,
   "metadata": {},
   "outputs": [
    {
     "name": "stdout",
     "output_type": "stream",
     "text": [
      "charge     = -8.0\n",
      "center     = [11.81405814 11.92579284 11.5       ]\n",
      "quad corr  = -1.0\n",
      "quad pc    = [-4.25244035e+00 -2.19293955e+00 -2.52435490e-29]\n",
      "quad gauss = [-5.25244035 -3.19293955 -1.        ]\n",
      "pot shift  = -0.0015707963267948967\n"
     ]
    }
   ],
   "source": [
    "print(f\"charge     = {ions.charge}\")\n",
    "print(f\"center     = {ions.com}\")\n",
    "print(f\"quad corr  = {ions.quadrupole_correction}\")\n",
    "print(f\"quad pc    = {ions.quadrupole_pc}\")\n",
    "print(f\"quad gauss = {ions.quadrupole_gauss}\")\n",
    "print(f\"pot shift  = {ions.potential_shift}\")"
   ]
  },
  {
   "cell_type": "code",
   "execution_count": 41,
   "metadata": {},
   "outputs": [],
   "source": [
    "d = ions.density"
   ]
  },
  {
   "cell_type": "code",
   "execution_count": 42,
   "metadata": {},
   "outputs": [],
   "source": [
    "sd = ions.smeared_ions.density()"
   ]
  },
  {
   "cell_type": "code",
   "execution_count": 43,
   "metadata": {},
   "outputs": [],
   "source": [
    "sd = ions.smeared_ions[[0, 2]].density()"
   ]
  },
  {
   "cell_type": "code",
   "execution_count": 44,
   "metadata": {},
   "outputs": [],
   "source": [
    "sd = ions.smeared_ions[0].density"
   ]
  },
  {
   "cell_type": "markdown",
   "metadata": {},
   "source": [
    "# Initialize system"
   ]
  },
  {
   "cell_type": "code",
   "execution_count": 45,
   "metadata": {},
   "outputs": [],
   "source": [
    "from envyron.physical import EnvironSystem"
   ]
  },
  {
   "cell_type": "code",
   "execution_count": 46,
   "metadata": {},
   "outputs": [],
   "source": [
    "system = EnvironSystem(\n",
    "    ntypes=1,\n",
    "    dim=0,\n",
    "    axis=2,\n",
    "    ions=ions,\n",
    ")"
   ]
  },
  {
   "cell_type": "code",
   "execution_count": 47,
   "metadata": {},
   "outputs": [
    {
     "data": {
      "text/plain": [
       "1"
      ]
     },
     "execution_count": 47,
     "metadata": {},
     "output_type": "execute_result"
    }
   ],
   "source": [
    "system.ntypes"
   ]
  },
  {
   "cell_type": "code",
   "execution_count": 48,
   "metadata": {},
   "outputs": [],
   "source": [
    "system.update()"
   ]
  },
  {
   "cell_type": "code",
   "execution_count": 49,
   "metadata": {},
   "outputs": [
    {
     "data": {
      "text/plain": [
       "array([11.79, 12.05, 11.5 ])"
      ]
     },
     "execution_count": 49,
     "metadata": {},
     "output_type": "execute_result"
    }
   ],
   "source": [
    "system.com"
   ]
  },
  {
   "cell_type": "markdown",
   "metadata": {},
   "source": [
    "# Initialize electrons"
   ]
  },
  {
   "cell_type": "code",
   "execution_count": 50,
   "metadata": {},
   "outputs": [],
   "source": [
    "from envyron.physical import EnvironElectrons"
   ]
  },
  {
   "cell_type": "code",
   "execution_count": 51,
   "metadata": {},
   "outputs": [],
   "source": [
    "electrons = EnvironElectrons(grid)"
   ]
  },
  {
   "cell_type": "code",
   "execution_count": 52,
   "metadata": {},
   "outputs": [],
   "source": [
    "rho = random(nr)"
   ]
  },
  {
   "cell_type": "code",
   "execution_count": 53,
   "metadata": {},
   "outputs": [
    {
     "name": "stdout",
     "output_type": "stream",
     "text": [
      "charge = 4.000118142167143\n",
      "count  = 4\n"
     ]
    }
   ],
   "source": [
    "electrons.update(rho / 1000)\n",
    "print(f\"charge = {electrons.charge}\")\n",
    "print(f\"count  = {electrons.count}\")"
   ]
  },
  {
   "cell_type": "markdown",
   "metadata": {},
   "source": [
    "# Initialize a core container"
   ]
  },
  {
   "cell_type": "code",
   "execution_count": 54,
   "metadata": {},
   "outputs": [],
   "source": [
    "from envyron.cores import CoreContainer"
   ]
  },
  {
   "cell_type": "code",
   "execution_count": 55,
   "metadata": {},
   "outputs": [],
   "source": [
    "cores = CoreContainer(label='outer', has_internal_correction=False)"
   ]
  },
  {
   "cell_type": "markdown",
   "metadata": {},
   "source": [
    "# Initialize an electronic boundary"
   ]
  },
  {
   "cell_type": "code",
   "execution_count": 56,
   "metadata": {},
   "outputs": [],
   "source": [
    "from envyron.boundaries import ElectronicBoundary"
   ]
  },
  {
   "cell_type": "code",
   "execution_count": 57,
   "metadata": {},
   "outputs": [],
   "source": [
    "eboundary = ElectronicBoundary(\n",
    "    rhomin=my_input.solvent.rhomin,\n",
    "    rhomax=my_input.solvent.rhomax,\n",
    "    electrons=electrons,\n",
    "    mode='electronic',\n",
    "    need_gradient=True,\n",
    "    need_laplacian=True,\n",
    "    need_hessian=True,\n",
    "    deriv_method='chain',\n",
    "    cores=cores,\n",
    "    grid=grid,\n",
    "    label='solvent'\n",
    ")"
   ]
  },
  {
   "cell_type": "code",
   "execution_count": 58,
   "metadata": {},
   "outputs": [],
   "source": [
    "# electrons.updating = True\n",
    "eboundary.update()\n",
    "# electrons.updating = False"
   ]
  },
  {
   "cell_type": "code",
   "execution_count": 59,
   "metadata": {},
   "outputs": [
    {
     "name": "stdout",
     "output_type": "stream",
     "text": [
      "volume  = 0.0\n",
      "surface = 0.0\n"
     ]
    }
   ],
   "source": [
    "print(f\"volume  = {eboundary.volume}\")\n",
    "print(f\"surface = {eboundary.surface}\")"
   ]
  },
  {
   "cell_type": "markdown",
   "metadata": {},
   "source": [
    "# Initialize an ionic boundary"
   ]
  },
  {
   "cell_type": "code",
   "execution_count": 60,
   "metadata": {},
   "outputs": [],
   "source": [
    "from envyron.boundaries import IonicBoundary"
   ]
  },
  {
   "cell_type": "code",
   "execution_count": 61,
   "metadata": {},
   "outputs": [],
   "source": [
    "iboundary = IonicBoundary(\n",
    "    alpha=1.12,\n",
    "    softness=0.5,\n",
    "    ions=ions,\n",
    "    mode='ionic',\n",
    "    need_gradient=True,\n",
    "    need_laplacian=True,\n",
    "    need_hessian=True,\n",
    "    deriv_method='lowmem',\n",
    "    cores=cores,\n",
    "    grid=grid,\n",
    "    label='solvent'\n",
    ")"
   ]
  },
  {
   "cell_type": "code",
   "execution_count": 62,
   "metadata": {},
   "outputs": [],
   "source": [
    "ions.updating = True\n",
    "iboundary.update()\n",
    "ions.updating = False"
   ]
  },
  {
   "cell_type": "code",
   "execution_count": 63,
   "metadata": {},
   "outputs": [
    {
     "name": "stdout",
     "output_type": "stream",
     "text": [
      "volume  = 281.8079914165231\n",
      "surface = 209.31941232992193\n"
     ]
    }
   ],
   "source": [
    "print(f\"volume  = {iboundary.volume}\")\n",
    "print(f\"surface = {iboundary.surface}\")"
   ]
  },
  {
   "cell_type": "markdown",
   "metadata": {},
   "source": [
    "# Initialize an system boundary"
   ]
  },
  {
   "cell_type": "code",
   "execution_count": 64,
   "metadata": {},
   "outputs": [],
   "source": [
    "from envyron.boundaries import SystemBoundary"
   ]
  },
  {
   "cell_type": "code",
   "execution_count": 65,
   "metadata": {},
   "outputs": [],
   "source": [
    "sboundary = SystemBoundary(\n",
    "    distance=my_input.solvent.distance,\n",
    "    spread=my_input.solvent.spread,\n",
    "    system=system,\n",
    "    mode='system',\n",
    "    need_gradient=True,\n",
    "    need_laplacian=True,\n",
    "    need_hessian=True,\n",
    "    deriv_method='chain',\n",
    "    cores=cores,\n",
    "    grid=grid,\n",
    "    label='solvent'\n",
    ")"
   ]
  },
  {
   "cell_type": "code",
   "execution_count": 66,
   "metadata": {},
   "outputs": [],
   "source": [
    "system.updating = True\n",
    "sboundary.update()\n",
    "system.updating = False"
   ]
  },
  {
   "cell_type": "code",
   "execution_count": 67,
   "metadata": {},
   "outputs": [
    {
     "name": "stdout",
     "output_type": "stream",
     "text": [
      "volume  = 5.759635791400076\n",
      "surface = 14.136621232521021\n"
     ]
    }
   ],
   "source": [
    "print(f\"volume  = {sboundary.volume}\")\n",
    "print(f\"surface = {sboundary.surface}\")"
   ]
  }
 ],
 "metadata": {
  "kernelspec": {
   "display_name": "Python 3.8.10 ('venv': venv)",
   "language": "python",
   "name": "python3"
  },
  "language_info": {
   "codemirror_mode": {
    "name": "ipython",
    "version": 3
   },
   "file_extension": ".py",
   "mimetype": "text/x-python",
   "name": "python",
   "nbconvert_exporter": "python",
   "pygments_lexer": "ipython3",
   "version": "3.8.10"
  },
  "orig_nbformat": 4,
  "vscode": {
   "interpreter": {
    "hash": "9b300354aa34bcc511210027e02574c40bcf39c58c0492b68f5ae5a9030f320a"
   }
  }
 },
 "nbformat": 4,
 "nbformat_minor": 2
}
